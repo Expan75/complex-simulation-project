{
 "cells": [
  {
   "cell_type": "code",
   "execution_count": 1,
   "id": "384d1594",
   "metadata": {},
   "outputs": [],
   "source": [
    "import os\n",
    "import sys\n",
    "import logging\n",
    "import itertools\n",
    "import numpy as np\n",
    "import pandas as pd\n",
    "import seaborn as sns\n",
    "import matplotlib.pyplot as plt\n",
    "from tqdm import tqdm\n",
    "from typing import Dict, Any, List, Generator"
   ]
  },
  {
   "cell_type": "code",
   "execution_count": 2,
   "id": "80fb7c95",
   "metadata": {},
   "outputs": [],
   "source": [
    "# package imports\n",
    "from vsim import electorate, candidates, simulation, voting_system"
   ]
  },
  {
   "cell_type": "markdown",
   "id": "61481b59",
   "metadata": {},
   "source": [
    "# Measuring fairness - Metric convergence"
   ]
  },
  {
   "cell_type": "code",
   "execution_count": 39,
   "id": "57418af2",
   "metadata": {},
   "outputs": [
    {
     "name": "stderr",
     "output_type": "stream",
     "text": [
      "100%|██████████████████████████████████████████| 10000/10000 [14:43<00:00, 11.31it/s]\n"
     ]
    }
   ],
   "source": [
    "# setup helper for generating experiments (basically all sets of params to run through sim)\n",
    "def generate_experiment_matrix(experiments: Dict[str, List[Any]]):\n",
    "    return (dict(zip(experiments, x)) for x in itertools.product(*experiments.values()))\n",
    "\n",
    "columns=[\n",
    "    \"electorate_size\",\n",
    "    \"clusters\",\n",
    "    \"cluster_std\" \n",
    "    \"issues\",\n",
    "    \"candidates\",\n",
    "    \"electoral_system\",\n",
    "    \"apathy_prob\",\n",
    "    \"fairness\"\n",
    "]\n",
    "\n",
    "experiments = {\n",
    "    \"electorate_size\": [10_000],\n",
    "    \"clusters\": [10],\n",
    "    \"cluster_std\": [1],\n",
    "    \"electoral_system\": [\"plurality\", \"majority\"],\n",
    "    \"apathy_prob\": [0.0],\n",
    "    \"candidates\": [2],\n",
    "    \"issues\": [2],\n",
    "}\n",
    "\n",
    "records = []\n",
    "columns = [*experiments.keys(), \"fairness\", \"t\"]\n",
    "experiment_matrix = list(generate_experiment_matrix(experiments))\n",
    "\n",
    "\n",
    "# outer monte carlo sim\n",
    "for _ in tqdm(range(10_000)):\n",
    "    for params in experiment_matrix:\n",
    "\n",
    "        # setup objects\n",
    "        voters = electorate.setup_electorate(**params)\n",
    "        parties = candidates.setup_candidates(**params, electorate=voters)\n",
    "        system = voting_system.setup_voting_system(name=params[\"electoral_system\"], **params)\n",
    "\n",
    "        # simulate elections\n",
    "        sim = simulation.VotingSimulator(electorate=voters, candidates=parties, system=system, log=logging.getLogger())\n",
    "\n",
    "        result = sim.run()\n",
    "        result_record = { \"fairness\": round(result.measured_fairness, 3), **params }\n",
    "        result_record = {k: v for k, v in result_record.items() if k in columns}\n",
    "        records.append(result_record)"
   ]
  },
  {
   "cell_type": "code",
   "execution_count": 32,
   "id": "eccfd07e",
   "metadata": {},
   "outputs": [
    {
     "data": {
      "text/html": [
       "<div>\n",
       "<style scoped>\n",
       "    .dataframe tbody tr th:only-of-type {\n",
       "        vertical-align: middle;\n",
       "    }\n",
       "\n",
       "    .dataframe tbody tr th {\n",
       "        vertical-align: top;\n",
       "    }\n",
       "\n",
       "    .dataframe thead th {\n",
       "        text-align: right;\n",
       "    }\n",
       "</style>\n",
       "<table border=\"1\" class=\"dataframe\">\n",
       "  <thead>\n",
       "    <tr style=\"text-align: right;\">\n",
       "      <th></th>\n",
       "      <th>fairness</th>\n",
       "      <th>electorate_size</th>\n",
       "      <th>clusters</th>\n",
       "      <th>cluster_std</th>\n",
       "      <th>electoral_system</th>\n",
       "      <th>apathy_prob</th>\n",
       "      <th>candidates</th>\n",
       "      <th>issues</th>\n",
       "    </tr>\n",
       "  </thead>\n",
       "  <tbody>\n",
       "    <tr>\n",
       "      <th>0</th>\n",
       "      <td>0.920</td>\n",
       "      <td>10000</td>\n",
       "      <td>10</td>\n",
       "      <td>1</td>\n",
       "      <td>plurality</td>\n",
       "      <td>0.0</td>\n",
       "      <td>2</td>\n",
       "      <td>2</td>\n",
       "    </tr>\n",
       "    <tr>\n",
       "      <th>1</th>\n",
       "      <td>0.940</td>\n",
       "      <td>10000</td>\n",
       "      <td>10</td>\n",
       "      <td>1</td>\n",
       "      <td>plurality</td>\n",
       "      <td>0.0</td>\n",
       "      <td>2</td>\n",
       "      <td>2</td>\n",
       "    </tr>\n",
       "    <tr>\n",
       "      <th>2</th>\n",
       "      <td>0.933</td>\n",
       "      <td>10000</td>\n",
       "      <td>10</td>\n",
       "      <td>1</td>\n",
       "      <td>plurality</td>\n",
       "      <td>0.0</td>\n",
       "      <td>2</td>\n",
       "      <td>2</td>\n",
       "    </tr>\n",
       "    <tr>\n",
       "      <th>3</th>\n",
       "      <td>0.918</td>\n",
       "      <td>10000</td>\n",
       "      <td>10</td>\n",
       "      <td>1</td>\n",
       "      <td>plurality</td>\n",
       "      <td>0.0</td>\n",
       "      <td>2</td>\n",
       "      <td>2</td>\n",
       "    </tr>\n",
       "    <tr>\n",
       "      <th>4</th>\n",
       "      <td>0.851</td>\n",
       "      <td>10000</td>\n",
       "      <td>10</td>\n",
       "      <td>1</td>\n",
       "      <td>plurality</td>\n",
       "      <td>0.0</td>\n",
       "      <td>2</td>\n",
       "      <td>2</td>\n",
       "    </tr>\n",
       "  </tbody>\n",
       "</table>\n",
       "</div>"
      ],
      "text/plain": [
       "   fairness  electorate_size  clusters  cluster_std electoral_system  \\\n",
       "0     0.920            10000        10            1        plurality   \n",
       "1     0.940            10000        10            1        plurality   \n",
       "2     0.933            10000        10            1        plurality   \n",
       "3     0.918            10000        10            1        plurality   \n",
       "4     0.851            10000        10            1        plurality   \n",
       "\n",
       "   apathy_prob  candidates  issues  \n",
       "0          0.0           2       2  \n",
       "1          0.0           2       2  \n",
       "2          0.0           2       2  \n",
       "3          0.0           2       2  \n",
       "4          0.0           2       2  "
      ]
     },
     "execution_count": 32,
     "metadata": {},
     "output_type": "execute_result"
    }
   ],
   "source": [
    "results_df = pd.DataFrame.from_records(records)\n",
    "results_df.head()"
   ]
  },
  {
   "cell_type": "code",
   "execution_count": null,
   "id": "ed667918",
   "metadata": {},
   "outputs": [],
   "source": [
    "# stoe away so we don't need to rerun experiment\n",
    "filepath = \"data/fairness-convergence-a91ed7aa-b6f6-4a85-9ccf-eeb37ea9da02.csv\"\n",
    "results_df.to_csv(filepath, index=False)"
   ]
  },
  {
   "cell_type": "code",
   "execution_count": null,
   "id": "105c41a5",
   "metadata": {},
   "outputs": [],
   "source": [
    "# calculate cumulative averages for each electoral system\n",
    "majority = results_df.electoral_system == \"majority\"\n",
    "plurality = results_df.electoral_system == \"plurality\"\n",
    "\n",
    "majority_df = results_df[majority].reset_index().drop([\"index\", axis=1])\n",
    "plurality_df = results_df[plurality].reset_index().drop([\"index\", axis=1])\n",
    "\n",
    "results_df.loc[, \"fairness_cumsum\"] = results_df[1:, \"fairness_cumsum\"] / results_df[1: ].index\n",
    "results_df.loc[, \"fairness_cumsum\"] = results_df[1:, \"fairness_cumsum\"] / results_df[1: ].index"
   ]
  },
  {
   "cell_type": "code",
   "execution_count": null,
   "id": "9d78967d",
   "metadata": {},
   "outputs": [],
   "source": []
  }
 ],
 "metadata": {
  "kernelspec": {
   "display_name": "Python 3 (ipykernel)",
   "language": "python",
   "name": "python3"
  },
  "language_info": {
   "codemirror_mode": {
    "name": "ipython",
    "version": 3
   },
   "file_extension": ".py",
   "mimetype": "text/x-python",
   "name": "python",
   "nbconvert_exporter": "python",
   "pygments_lexer": "ipython3",
   "version": "3.11.1"
  }
 },
 "nbformat": 4,
 "nbformat_minor": 5
}
