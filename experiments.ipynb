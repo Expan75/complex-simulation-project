{
 "cells": [
  {
   "cell_type": "code",
   "execution_count": 1,
   "id": "020335ee",
   "metadata": {},
   "outputs": [],
   "source": [
    "import os\n",
    "import sys\n",
    "import pandas as pd\n",
    "import numpy as np\n",
    "import seaborn as sns\n",
    "import matplotlib.pyplot as plt"
   ]
  },
  {
   "cell_type": "code",
   "execution_count": 2,
   "id": "452cc3d3",
   "metadata": {},
   "outputs": [
    {
     "ename": "ModuleNotFoundError",
     "evalue": "No module named 'voting_system'",
     "output_type": "error",
     "traceback": [
      "\u001b[0;31m---------------------------------------------------------------------------\u001b[0m",
      "\u001b[0;31mModuleNotFoundError\u001b[0m                       Traceback (most recent call last)",
      "Cell \u001b[0;32mIn[2], line 2\u001b[0m\n\u001b[1;32m      1\u001b[0m \u001b[38;5;66;03m# package imports to setup simulator experiments\u001b[39;00m\n\u001b[0;32m----> 2\u001b[0m \u001b[38;5;28;01mimport\u001b[39;00m \u001b[38;5;21;01msrc\u001b[39;00m\u001b[38;5;21;01m.\u001b[39;00m\u001b[38;5;21;01mvsim\u001b[39;00m\n",
      "File \u001b[0;32m~/uni/chalmers/complex-simulation-project/src/vsim/__init__.py:5\u001b[0m\n\u001b[1;32m      3\u001b[0m \u001b[38;5;28;01mimport\u001b[39;00m \u001b[38;5;21;01msrc\u001b[39;00m\u001b[38;5;21;01m.\u001b[39;00m\u001b[38;5;21;01mvsim\u001b[39;00m\u001b[38;5;21;01m.\u001b[39;00m\u001b[38;5;21;01mvoting_system\u001b[39;00m\n\u001b[1;32m      4\u001b[0m \u001b[38;5;28;01mimport\u001b[39;00m \u001b[38;5;21;01msrc\u001b[39;00m\u001b[38;5;21;01m.\u001b[39;00m\u001b[38;5;21;01mvsim\u001b[39;00m\u001b[38;5;21;01m.\u001b[39;00m\u001b[38;5;21;01melectorate\u001b[39;00m\n\u001b[0;32m----> 5\u001b[0m \u001b[38;5;28;01mimport\u001b[39;00m \u001b[38;5;21;01msrc\u001b[39;00m\u001b[38;5;21;01m.\u001b[39;00m\u001b[38;5;21;01mvsim\u001b[39;00m\u001b[38;5;21;01m.\u001b[39;00m\u001b[38;5;21;01msimulation\u001b[39;00m\n",
      "File \u001b[0;32m~/uni/chalmers/complex-simulation-project/src/vsim/simulation.py:7\u001b[0m\n\u001b[1;32m      5\u001b[0m \u001b[38;5;28;01mimport\u001b[39;00m \u001b[38;5;21;01mmatplotlib\u001b[39;00m\u001b[38;5;21;01m.\u001b[39;00m\u001b[38;5;21;01mpyplot\u001b[39;00m \u001b[38;5;28;01mas\u001b[39;00m \u001b[38;5;21;01mplt\u001b[39;00m\n\u001b[1;32m      6\u001b[0m \u001b[38;5;28;01mfrom\u001b[39;00m \u001b[38;5;21;01mtyping\u001b[39;00m \u001b[38;5;28;01mimport\u001b[39;00m Optional\n\u001b[0;32m----> 7\u001b[0m \u001b[38;5;28;01mimport\u001b[39;00m \u001b[38;5;21;01mvoting_system\u001b[39;00m\n\u001b[1;32m     10\u001b[0m \u001b[38;5;28;01mclass\u001b[39;00m \u001b[38;5;21;01mVotingSimulator\u001b[39;00m:\n\u001b[1;32m     11\u001b[0m \u001b[38;5;250m    \u001b[39m\u001b[38;5;124;03m\"\"\"\u001b[39;00m\n\u001b[1;32m     12\u001b[0m \u001b[38;5;124;03m    Represents a running simulation. Runs an election given\u001b[39;00m\n\u001b[1;32m     13\u001b[0m \u001b[38;5;124;03m    the injected voting system strategy and population.\u001b[39;00m\n\u001b[1;32m     14\u001b[0m \u001b[38;5;124;03m    \"\"\"\u001b[39;00m\n",
      "\u001b[0;31mModuleNotFoundError\u001b[0m: No module named 'voting_system'"
     ]
    }
   ],
   "source": [
    "# package imports to setup simulator experiments\n",
    "import src.vsim"
   ]
  },
  {
   "cell_type": "code",
   "execution_count": null,
   "id": "673bb32b",
   "metadata": {},
   "outputs": [],
   "source": [
    "help(vsim)"
   ]
  },
  {
   "cell_type": "markdown",
   "id": "d6654ec4",
   "metadata": {},
   "source": [
    "# Electorate\n",
    "\n",
    "We represent our electorate as an (m,n) dimensional matrix where m corresponds to each individual voter, and n corresponds to their opinion or preference of a given topic. Topics are not actually real and should be seen a simplification of randomly generating voter preferences in a way we can easily control and adjust. To ensure we can the effect of different underlying electorate dynamics (e.g. polarisation), we can generate electorates with different skews and biases. Below is a sample in a 2D dimensional case (each voter has a unique preference on two issues) for highly homogenous clusters and heteregenous clusters."
   ]
  },
  {
   "cell_type": "code",
   "execution_count": 13,
   "id": "ee46f9d3",
   "metadata": {},
   "outputs": [
    {
     "ename": "AttributeError",
     "evalue": "module 'src.vsim' has no attribute 'electorate'",
     "output_type": "error",
     "traceback": [
      "\u001b[0;31m---------------------------------------------------------------------------\u001b[0m",
      "\u001b[0;31mAttributeError\u001b[0m                            Traceback (most recent call last)",
      "Cell \u001b[0;32mIn[13], line 6\u001b[0m\n\u001b[1;32m      3\u001b[0m ISSUES \u001b[38;5;241m=\u001b[39m \u001b[38;5;241m2\u001b[39m\n\u001b[1;32m      4\u001b[0m POPULATION_SIZE \u001b[38;5;241m=\u001b[39m \u001b[38;5;241m10_000\u001b[39m\n\u001b[0;32m----> 6\u001b[0m centered \u001b[38;5;241m=\u001b[39m \u001b[43mvsim\u001b[49m\u001b[38;5;241;43m.\u001b[39;49m\u001b[43melectorate\u001b[49m\u001b[38;5;241m.\u001b[39msetup_electorate(POPULATION_SIZE, ISSUES, scenario\u001b[38;5;241m=\u001b[39m\u001b[38;5;124m\"\u001b[39m\u001b[38;5;124mcentered\u001b[39m\u001b[38;5;124m\"\u001b[39m, seed\u001b[38;5;241m=\u001b[39mSEED)\n\u001b[1;32m      7\u001b[0m bipolar \u001b[38;5;241m=\u001b[39m vsim\u001b[38;5;241m.\u001b[39melectorate\u001b[38;5;241m.\u001b[39msetup_electorate(POPULATION_SIZE, ISSUES, scenario\u001b[38;5;241m=\u001b[39m\u001b[38;5;124m\"\u001b[39m\u001b[38;5;124mbipolar\u001b[39m\u001b[38;5;124m\"\u001b[39m, seed\u001b[38;5;241m=\u001b[39mSEED)\n\u001b[1;32m      8\u001b[0m tripolar \u001b[38;5;241m=\u001b[39m vsim\u001b[38;5;241m.\u001b[39melectorate\u001b[38;5;241m.\u001b[39msetup_electorate(POPULATION_SIZE, ISSUES, scenario\u001b[38;5;241m=\u001b[39m\u001b[38;5;124m\"\u001b[39m\u001b[38;5;124mtripolar\u001b[39m\u001b[38;5;124m\"\u001b[39m, seed\u001b[38;5;241m=\u001b[39mSEED)\n",
      "\u001b[0;31mAttributeError\u001b[0m: module 'src.vsim' has no attribute 'electorate'"
     ]
    }
   ],
   "source": [
    "# params for generation; note that given O(n^2) for NN search, it is recommended to note over do population size.\n",
    "SEED = 42\n",
    "ISSUES = 2\n",
    "POPULATION_SIZE = 10_000\n",
    "\n",
    "centered = vsim.electorate.setup_electorate(POPULATION_SIZE, ISSUES, scenario=\"centered\", seed=SEED)\n",
    "bipolar = vsim.electorate.setup_electorate(POPULATION_SIZE, ISSUES, scenario=\"bipolar\", seed=SEED)\n",
    "tripolar = vsim.electorate.setup_electorate(POPULATION_SIZE, ISSUES, scenario=\"tripolar\", seed=SEED)\n",
    "\n",
    "# same but increase diversity of intra-cluster opinion; parameterised homogenity of opinion\n",
    "CLUSTER_STD = 3.5\n",
    "centered_wide = vsim.electorate.setup_electorate(POPULATION_SIZE, ISSUES, scenario=\"centered\", seed=SEED, cluster_std=CLUSTER_STD)\n",
    "bipolar_wide = vsim.electorate.setup_electorate(POPULATION_SIZE, ISSUES, scenario=\"bipolar\", seed=SEED, cluster_std=CLUSTER_STD)\n",
    "tripolar_wide = vsim.electorate.setup_electorate(POPULATION_SIZE, ISSUES, scenario=\"tripolar\", seed=SEED, cluster_std=CLUSTER_STD)\n",
    "\n",
    "fig, ((ax1, ax2, ax3), (ax4, ax5, ax6)) = plt.subplots(2,3, sharey=True, sharex=True, tight_layout=True, figsize=(14, 8))\n",
    "\n",
    "# normal\n",
    "sns.histplot(x=centered[:, 0], y=centered[:, 1], ax=ax1, label=\"voter\")\n",
    "ax1.set_title(\"centered - no dispersion\")\n",
    "\n",
    "sns.histplot(x=bipolar[:, 0], y=bipolar[:, 1], ax=ax2, label=\"voter\")        \n",
    "ax2.set_title(\"bipolar - no dispersion\")\n",
    "\n",
    "sns.histplot(x=tripolar[:, 0], y=tripolar[:, 1], ax=ax3, label=\"voter\")\n",
    "ax3.set_title(\"tripolar - no dispersion\")\n",
    "\n",
    "# increased dispersion\n",
    "sns.histplot(x=centered_wide[:, 0], y=centered_wide[:, 1], ax=ax4, label=\"voter\")\n",
    "ax4.set_title(\"centered - higher dispersion\")\n",
    "\n",
    "sns.histplot(x=bipolar_wide[:, 0], y=bipolar_wide[:, 1], ax=ax5, label=\"voter\")        \n",
    "ax5.set_title(\"bipolar - higher dispersion\")\n",
    "\n",
    "sns.histplot(x=tripolar_wide[:, 0], y=tripolar_wide[:, 1], ax=ax6, label=\"voter\")\n",
    "ax6.set_title(\"tripolar - higher dispersion\")\n",
    "\n",
    "fig.suptitle(\"Generated Electorates\", fontsize=20)\n",
    "plt.show()"
   ]
  },
  {
   "cell_type": "markdown",
   "id": "4141b253",
   "metadata": {},
   "source": [
    "NOTE: that our candidate preference ranges are normalised to ensure we can compare distances in a reliable way despite introducing arbitrary skewing. "
   ]
  },
  {
   "cell_type": "markdown",
   "id": "08209816",
   "metadata": {},
   "source": [
    "# Simulating candidates and elections\n",
    "\n",
    "The electorate (the people) vote for candidates. Candidates can be individuals or collection of individuals (i.e. a party) but ultimately represent a given pallete of opinions. Similarly to voters, this is represented by a (m, n) matrix, where each row m corresponds to candidate m opinion on issue n.\n",
    "\n",
    "We assume that candidates align themselves with general electorate as they want to be elected. As such, the candidate positioning on issues is a function of the electorates underlying values. Systematically, we emulate this via clustering (KMeans in our case)."
   ]
  },
  {
   "cell_type": "code",
   "execution_count": 44,
   "id": "6dd65c2f",
   "metadata": {},
   "outputs": [
    {
     "ename": "AttributeError",
     "evalue": "module 'src.vsim' has no attribute 'simulation'",
     "output_type": "error",
     "traceback": [
      "\u001b[0;31m---------------------------------------------------------------------------\u001b[0m",
      "\u001b[0;31mAttributeError\u001b[0m                            Traceback (most recent call last)",
      "Cell \u001b[0;32mIn[44], line 3\u001b[0m\n\u001b[1;32m      1\u001b[0m \u001b[38;5;28;01mfrom\u001b[39;00m \u001b[38;5;21;01msrc\u001b[39;00m \u001b[38;5;28;01mimport\u001b[39;00m vsim\n\u001b[0;32m----> 3\u001b[0m candidates \u001b[38;5;241m=\u001b[39m \u001b[43mvsim\u001b[49m\u001b[38;5;241;43m.\u001b[39;49m\u001b[43msimulation\u001b[49m\u001b[38;5;241m.\u001b[39mVotingSimulator\u001b[38;5;241m.\u001b[39mgenerate_candidates(n_candidates\u001b[38;5;241m=\u001b[39m\u001b[38;5;241m2\u001b[39m, electorate\u001b[38;5;241m=\u001b[39mbipolar_wide)\n\u001b[1;32m      4\u001b[0m result \u001b[38;5;241m=\u001b[39m vsim\u001b[38;5;241m.\u001b[39mvoting_system\u001b[38;5;241m.\u001b[39mNaivePlurality({})\u001b[38;5;241m.\u001b[39melect(candidates\u001b[38;5;241m=\u001b[39mcandidates, electorate\u001b[38;5;241m=\u001b[39mbipolar_wide)\n\u001b[1;32m      5\u001b[0m winner \u001b[38;5;241m=\u001b[39m \u001b[38;5;28mlist\u001b[39m(result\u001b[38;5;241m.\u001b[39mwinners)[\u001b[38;5;241m0\u001b[39m]\n",
      "\u001b[0;31mAttributeError\u001b[0m: module 'src.vsim' has no attribute 'simulation'"
     ]
    }
   ],
   "source": [
    "from src import vsim\n",
    "\n",
    "candidates = vsim.simulation.VotingSimulator.generate_candidates(n_candidates=2, electorate=bipolar_wide)\n",
    "result = vsim.voting_system.NaivePlurality({}).elect(candidates=candidates, electorate=bipolar_wide)\n",
    "winner = list(result.winners)[0]"
   ]
  },
  {
   "cell_type": "code",
   "execution_count": null,
   "id": "36d35a9a",
   "metadata": {},
   "outputs": [],
   "source": [
    "fig, ax1 = plt.subplots(1,1, sharey=True, sharex=True, tight_layout=True, figsize=(10, 10))\n",
    "sns.histplot(x=bipolar_wide[:,0], y=bipolar_wide[:,1], ax=ax1)\n",
    "sns.scatterplot(x=candidates[:,0], y=candidates[:,1], label=\"candidates\", ax=ax1, s=100, color=\"orange\")\n",
    "fig.suptitle(\"Candidate positioning and election winner - plurality\")\n",
    "\n",
    "arrow_props = {\n",
    "    \"arrowstyle\": \"-|>\",\n",
    "    \"connectionstyle\": \"angle3\",\n",
    "    \"lw\": 1,\n",
    "}\n",
    "\n",
    "# annotate the winner of the election\n",
    "plt.annotate(\"Election Winner (by average distance)\", candidates[winner, :], xytext=[-0.015, 0.025], xycoords='data', arrowprops=arrow_props)\n",
    "plt.show()"
   ]
  },
  {
   "cell_type": "markdown",
   "id": "e6dd1f32",
   "metadata": {},
   "source": [
    "# Measuring fairness - Pluralism vs. Majority\n",
    "\n",
    "Fairness is not well defined, even within the political science literature, but to ensure we can adequately compare different systems in a simulated setting, we have opted for a simple metric, namely the average distance from the winner(s) of the election. This average is calculated over every voter, taking the euclidian distance to the winner (or winners) of the election. If there are multiple equally weighted winners, the distance is averaged across winners. In the simple case of pluralism and majority in a non-proportional system, commonly observed in elections of the executive branch in Rebublics (simplified U.S. case without electoral votes but still). \n",
    "\n",
    "Pluralism is defined as the winner is the one with the most votes. Majority on the other hand requires that a givne candidate meets a threshold of 50% of the vote to be crowned winner, otherwise the election is repeated. Typically, there is a reduction in the candidate pool to ensure the elections converge on a winner; we follow suit and reduce the candidate pool by 1, removing the lowest performing candidate at each round where a definte majority cannot be crowned.\n",
    "\n",
    "Below both are illustrated and constrated with respect to our fairness metric."
   ]
  },
  {
   "cell_type": "code",
   "execution_count": null,
   "id": "2b29f8e4",
   "metadata": {},
   "outputs": [],
   "source": []
  }
 ],
 "metadata": {
  "kernelspec": {
   "display_name": "Python 3 (ipykernel)",
   "language": "python",
   "name": "python3"
  },
  "language_info": {
   "codemirror_mode": {
    "name": "ipython",
    "version": 3
   },
   "file_extension": ".py",
   "mimetype": "text/x-python",
   "name": "python",
   "nbconvert_exporter": "python",
   "pygments_lexer": "ipython3",
   "version": "3.11.1"
  }
 },
 "nbformat": 4,
 "nbformat_minor": 5
}
