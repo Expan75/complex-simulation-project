{
 "cells": [
  {
   "cell_type": "code",
   "execution_count": 2,
   "metadata": {},
   "outputs": [
    {
     "name": "stdout",
     "output_type": "stream",
     "text": [
      "2023-12-04 12:17:21,589 - common - DEBUG - generating candidates of size (5, 2)\n",
      "2023-12-04 12:17:21,894 - common - DEBUG - running voting sim\n",
      "fairness=1053.24\n",
      "2023-12-04 12:17:22,090 - common - DEBUG - displaying\n",
      "Figure(640x480)\n"
     ]
    }
   ],
   "source": [
    "import matplotlib.pyplot as plt\n",
    "import os\n",
    "\n",
    "%matplotlib inline\n",
    "#fucking funkar ej \n",
    "os.chdir(\"/Users/isaksoderlund/Documents/datascience/complex-simulation-project\")\n",
    "!python3 src/vsim/cli.py \\\n",
    "    --voting-system majority \\\n",
    "    --scenario polarized \\\n",
    "    --candidates 5 \\\n",
    "    --population 10_000 \\\n",
    "    --debug \\\n",
    "    --log DEBUG"
   ]
  },
  {
   "cell_type": "code",
   "execution_count": 13,
   "metadata": {},
   "outputs": [
    {
     "name": "stdout",
     "output_type": "stream",
     "text": [
      "usage: vsim [-h] --voting-system {plurality,majority,approval}\n",
      "            [--candidates CANDIDATES] [--issues ISSUES]\n",
      "            [--population POPULATION] [--scenario {random,centered,polarized}]\n",
      "            [--seed SEED] [--log LOG] [--debug]\n",
      "\n",
      "Voting simulator 0.0.1\n",
      "\n",
      "options:\n",
      "  -h, --help            show this help message and exit\n",
      "  --voting-system {plurality,majority,approval}, -v {plurality,majority,approval}\n",
      "  --candidates CANDIDATES, -c CANDIDATES\n",
      "  --issues ISSUES, -i ISSUES\n",
      "  --population POPULATION, -p POPULATION\n",
      "  --scenario {random,centered,polarized}, -e {random,centered,polarized}\n",
      "  --seed SEED, -s SEED\n",
      "  --log LOG, -l LOG\n",
      "  --debug, -d\n"
     ]
    }
   ],
   "source": [
    "!python3 src/vsim/cli.py \\\n",
    "-h"
   ]
  },
  {
   "cell_type": "code",
   "execution_count": 14,
   "metadata": {},
   "outputs": [
    {
     "name": "stdout",
     "output_type": "stream",
     "text": [
      "/Library/Frameworks/Python.framework/Versions/3.10/bin/python3: can't open file '//src/vsim/cli.py': [Errno 2] No such file or directory\n"
     ]
    }
   ],
   "source": [
    "import os\n",
    "os.chdir(\"..\")\n",
    "\n",
    "!python3 src/vsim/cli.py \\\n",
    "    --voting-system plurality \\\n",
    "    --scenario polarized \\\n",
    "    --candidates 2 \\\n",
    "    --population 10_000 \\\n",
    "    --debug \\\n",
    "    --log DEBUG"
   ]
  }
 ],
 "metadata": {
  "kernelspec": {
   "display_name": "Python 3",
   "language": "python",
   "name": "python3"
  },
  "language_info": {
   "codemirror_mode": {
    "name": "ipython",
    "version": 3
   },
   "file_extension": ".py",
   "mimetype": "text/x-python",
   "name": "python",
   "nbconvert_exporter": "python",
   "pygments_lexer": "ipython3",
   "version": "3.10.0"
  }
 },
 "nbformat": 4,
 "nbformat_minor": 2
}
