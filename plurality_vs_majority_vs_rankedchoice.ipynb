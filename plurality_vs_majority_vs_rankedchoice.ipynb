{
 "cells": [
  {
   "cell_type": "code",
   "execution_count": 1,
   "id": "384d1594",
   "metadata": {},
   "outputs": [],
   "source": [
    "import os\n",
    "import sys\n",
    "import logging\n",
    "import itertools\n",
    "import numpy as np\n",
    "import pandas as pd\n",
    "import seaborn as sns\n",
    "import matplotlib.pyplot as plt\n",
    "from tqdm import tqdm\n",
    "from typing import Dict, Any, List, Generator"
   ]
  },
  {
   "cell_type": "code",
   "execution_count": 2,
   "id": "80fb7c95",
   "metadata": {},
   "outputs": [],
   "source": [
    "# package imports\n",
    "from vsim import electorate, candidates, simulation, voting_system"
   ]
  },
  {
   "cell_type": "code",
   "execution_count": 10,
   "id": "57418af2",
   "metadata": {},
   "outputs": [
    {
     "name": "stderr",
     "output_type": "stream",
     "text": [
      "  0%|                              | 4/17496 [00:00<21:15, 13.72it/s]\n"
     ]
    },
    {
     "ename": "ZeroDivisionError",
     "evalue": "Weights sum to zero, can't be normalized",
     "output_type": "error",
     "traceback": [
      "\u001b[0;31m---------------------------------------------------------------------------\u001b[0m",
      "\u001b[0;31mZeroDivisionError\u001b[0m                         Traceback (most recent call last)",
      "Cell \u001b[0;32mIn[10], line 32\u001b[0m\n\u001b[1;32m     29\u001b[0m sim \u001b[38;5;241m=\u001b[39m simulation\u001b[38;5;241m.\u001b[39mVotingSimulator(electorate\u001b[38;5;241m=\u001b[39mvoters, candidates\u001b[38;5;241m=\u001b[39mparties, system\u001b[38;5;241m=\u001b[39msystem, log\u001b[38;5;241m=\u001b[39mlogging\u001b[38;5;241m.\u001b[39mgetLogger())\n\u001b[1;32m     31\u001b[0m \u001b[38;5;28;01mtry\u001b[39;00m:    \n\u001b[0;32m---> 32\u001b[0m     result \u001b[38;5;241m=\u001b[39m \u001b[43msim\u001b[49m\u001b[38;5;241;43m.\u001b[39;49m\u001b[43mrun\u001b[49m\u001b[43m(\u001b[49m\u001b[43m)\u001b[49m\n\u001b[1;32m     33\u001b[0m     result_record \u001b[38;5;241m=\u001b[39m { \n\u001b[1;32m     34\u001b[0m         \u001b[38;5;124m\"\u001b[39m\u001b[38;5;124munweighted_fairness\u001b[39m\u001b[38;5;124m\"\u001b[39m: \u001b[38;5;28mround\u001b[39m(result\u001b[38;5;241m.\u001b[39munweighted_fairness, \u001b[38;5;241m3\u001b[39m),\n\u001b[1;32m     35\u001b[0m         \u001b[38;5;124m\"\u001b[39m\u001b[38;5;124mweighted_fairness\u001b[39m\u001b[38;5;124m\"\u001b[39m: \u001b[38;5;28mround\u001b[39m(result\u001b[38;5;241m.\u001b[39mweighted_fairness, \u001b[38;5;241m3\u001b[39m),\n\u001b[1;32m     36\u001b[0m         \u001b[38;5;241m*\u001b[39m\u001b[38;5;241m*\u001b[39mparams,\n\u001b[1;32m     37\u001b[0m     }\n\u001b[1;32m     38\u001b[0m     result_record \u001b[38;5;241m=\u001b[39m {k: v \u001b[38;5;28;01mfor\u001b[39;00m k, v \u001b[38;5;129;01min\u001b[39;00m result_record\u001b[38;5;241m.\u001b[39mitems() \u001b[38;5;28;01mif\u001b[39;00m k \u001b[38;5;129;01min\u001b[39;00m columns}\n",
      "File \u001b[0;32m~/uni/chalmers/complex-simulation-project/vsim/simulation.py:113\u001b[0m, in \u001b[0;36mVotingSimulator.run\u001b[0;34m(self)\u001b[0m\n\u001b[1;32m    108\u001b[0m \u001b[38;5;28mself\u001b[39m\u001b[38;5;241m.\u001b[39mlog\u001b[38;5;241m.\u001b[39mdebug(\u001b[38;5;124m\"\u001b[39m\u001b[38;5;124mrunning voting sim\u001b[39m\u001b[38;5;124m\"\u001b[39m)\n\u001b[1;32m    109\u001b[0m result \u001b[38;5;241m=\u001b[39m \u001b[38;5;28mself\u001b[39m\u001b[38;5;241m.\u001b[39mvoting_system\u001b[38;5;241m.\u001b[39melect(\u001b[38;5;28mself\u001b[39m\u001b[38;5;241m.\u001b[39melectorate, \u001b[38;5;28mself\u001b[39m\u001b[38;5;241m.\u001b[39mcandidates)\n\u001b[1;32m    110\u001b[0m simulation_result \u001b[38;5;241m=\u001b[39m {\n\u001b[1;32m    111\u001b[0m     \u001b[38;5;124m\"\u001b[39m\u001b[38;5;124melection_result\u001b[39m\u001b[38;5;124m\"\u001b[39m: result,\n\u001b[1;32m    112\u001b[0m     \u001b[38;5;124m\"\u001b[39m\u001b[38;5;124munweighted_fairness\u001b[39m\u001b[38;5;124m\"\u001b[39m: \u001b[38;5;28mself\u001b[39m\u001b[38;5;241m.\u001b[39mcalculate_fairness(result),\n\u001b[0;32m--> 113\u001b[0m     \u001b[38;5;124m\"\u001b[39m\u001b[38;5;124mweighted_fairness\u001b[39m\u001b[38;5;124m\"\u001b[39m: \u001b[38;5;28;43mself\u001b[39;49m\u001b[38;5;241;43m.\u001b[39;49m\u001b[43mcalculate_weighted_fairness\u001b[49m\u001b[43m(\u001b[49m\u001b[43mresult\u001b[49m\u001b[43m)\u001b[49m,\n\u001b[1;32m    114\u001b[0m     \u001b[38;5;124m\"\u001b[39m\u001b[38;5;124mparameters\u001b[39m\u001b[38;5;124m\"\u001b[39m: {},\n\u001b[1;32m    115\u001b[0m }\n\u001b[1;32m    117\u001b[0m \u001b[38;5;28;01mif\u001b[39;00m \u001b[38;5;28mself\u001b[39m\u001b[38;5;241m.\u001b[39mplot:\n\u001b[1;32m    118\u001b[0m     \u001b[38;5;28mself\u001b[39m\u001b[38;5;241m.\u001b[39mdisplay(result, simulation_result[\u001b[38;5;124m\"\u001b[39m\u001b[38;5;124munweighted_fairness\u001b[39m\u001b[38;5;124m\"\u001b[39m])\n",
      "File \u001b[0;32m~/uni/chalmers/complex-simulation-project/vsim/simulation.py:85\u001b[0m, in \u001b[0;36mVotingSimulator.calculate_weighted_fairness\u001b[0;34m(self, result)\u001b[0m\n\u001b[1;32m     82\u001b[0m avg_distances_weights \u001b[38;5;241m=\u001b[39m [dist \u001b[38;5;241m/\u001b[39m votes_total \u001b[38;5;28;01mfor\u001b[39;00m dist \u001b[38;5;129;01min\u001b[39;00m avg_distances]\n\u001b[1;32m     83\u001b[0m avg_distances \u001b[38;5;241m=\u001b[39m np\u001b[38;5;241m.\u001b[39marray(\u001b[38;5;28mlist\u001b[39m(avg_distances\u001b[38;5;241m.\u001b[39mvalues()))\n\u001b[0;32m---> 85\u001b[0m \u001b[38;5;28;01mreturn\u001b[39;00m \u001b[38;5;241m1\u001b[39m \u001b[38;5;241m/\u001b[39m \u001b[38;5;28mfloat\u001b[39m(\u001b[43mnp\u001b[49m\u001b[38;5;241;43m.\u001b[39;49m\u001b[43maverage\u001b[49m\u001b[43m(\u001b[49m\u001b[43mavg_distances\u001b[49m\u001b[43m,\u001b[49m\u001b[43m \u001b[49m\u001b[43mweights\u001b[49m\u001b[38;5;241;43m=\u001b[39;49m\u001b[43mavg_distances_weights\u001b[49m\u001b[43m)\u001b[49m)\n",
      "File \u001b[0;32m<__array_function__ internals>:200\u001b[0m, in \u001b[0;36maverage\u001b[0;34m(*args, **kwargs)\u001b[0m\n",
      "File \u001b[0;32m/Library/Frameworks/Python.framework/Versions/3.11/lib/python3.11/site-packages/numpy/lib/function_base.py:548\u001b[0m, in \u001b[0;36maverage\u001b[0;34m(a, axis, weights, returned, keepdims)\u001b[0m\n\u001b[1;32m    546\u001b[0m     scl \u001b[38;5;241m=\u001b[39m wgt\u001b[38;5;241m.\u001b[39msum(axis\u001b[38;5;241m=\u001b[39maxis, dtype\u001b[38;5;241m=\u001b[39mresult_dtype, \u001b[38;5;241m*\u001b[39m\u001b[38;5;241m*\u001b[39mkeepdims_kw)\n\u001b[1;32m    547\u001b[0m     \u001b[38;5;28;01mif\u001b[39;00m np\u001b[38;5;241m.\u001b[39many(scl \u001b[38;5;241m==\u001b[39m \u001b[38;5;241m0.0\u001b[39m):\n\u001b[0;32m--> 548\u001b[0m         \u001b[38;5;28;01mraise\u001b[39;00m \u001b[38;5;167;01mZeroDivisionError\u001b[39;00m(\n\u001b[1;32m    549\u001b[0m             \u001b[38;5;124m\"\u001b[39m\u001b[38;5;124mWeights sum to zero, can\u001b[39m\u001b[38;5;124m'\u001b[39m\u001b[38;5;124mt be normalized\u001b[39m\u001b[38;5;124m\"\u001b[39m)\n\u001b[1;32m    551\u001b[0m     avg \u001b[38;5;241m=\u001b[39m avg_as_array \u001b[38;5;241m=\u001b[39m np\u001b[38;5;241m.\u001b[39mmultiply(a, wgt,\n\u001b[1;32m    552\u001b[0m                       dtype\u001b[38;5;241m=\u001b[39mresult_dtype)\u001b[38;5;241m.\u001b[39msum(axis, \u001b[38;5;241m*\u001b[39m\u001b[38;5;241m*\u001b[39mkeepdims_kw) \u001b[38;5;241m/\u001b[39m scl\n\u001b[1;32m    554\u001b[0m \u001b[38;5;28;01mif\u001b[39;00m returned:\n",
      "\u001b[0;31mZeroDivisionError\u001b[0m: Weights sum to zero, can't be normalized"
     ]
    }
   ],
   "source": [
    "# setup helper for generating experiments (basically all sets of params to run through sim)\n",
    "def generate_experiment_matrix(experiments: Dict[str, List[Any]]):\n",
    "    return (dict(zip(experiments, x)) for x in itertools.product(*experiments.values()))\n",
    "\n",
    "\n",
    "experiments = {\n",
    "    \"electorate_size\": [10_000, 25_000], # not O(n^2) with KDTree, but still bad\n",
    "    \"clusters\": [1, 2, 10, 25],\n",
    "    \"cluster_std\": [1, 2, 3],\n",
    "    \"electoral_system\": [\"majority\", \"plurality\", \"approval\"],\n",
    "    \"apathy_prob\": [0, 0.01, 0.05],\n",
    "    \"candidates\": np.arange(2, 10 + 1),\n",
    "    \"issues\": np.arange(2, 25, 10, dtype=int),\n",
    "    \"n_approvals_per_voter\": [2, 3, 5]\n",
    "}\n",
    "\n",
    "records = []\n",
    "columns = [*experiments.keys(), \"unweighted_fairness\", \"weighted_fairness\"]\n",
    "experiment_matrix = list(generate_experiment_matrix(experiments))\n",
    "\n",
    "for params in tqdm(experiment_matrix):\n",
    "    \n",
    "    # setup objects\n",
    "    voters = electorate.setup_electorate(**params)\n",
    "    parties = candidates.setup_candidates(**params, electorate=voters)\n",
    "    system = voting_system.setup_voting_system(name=params[\"electoral_system\"], **params)\n",
    "    \n",
    "    # simulate elections\n",
    "    sim = simulation.VotingSimulator(electorate=voters, candidates=parties, system=system, log=logging.getLogger())\n",
    "    \n",
    "    try:    \n",
    "        result = sim.run()\n",
    "        result_record = { \n",
    "            \"unweighted_fairness\": round(result.unweighted_fairness, 3),\n",
    "            \"weighted_fairness\": round(result.weighted_fairness, 3),\n",
    "            **params,\n",
    "        }\n",
    "        result_record = {k: v for k, v in result_record.items() if k in columns}\n",
    "        records.append(result_record)\n",
    "    except AssertionError as e:\n",
    "        if e is AssertionError(\"more votes than candidates\"):\n",
    "            continue"
   ]
  },
  {
   "cell_type": "code",
   "execution_count": 9,
   "id": "eccfd07e",
   "metadata": {},
   "outputs": [
    {
     "data": {
      "text/html": [
       "<div>\n",
       "<style scoped>\n",
       "    .dataframe tbody tr th:only-of-type {\n",
       "        vertical-align: middle;\n",
       "    }\n",
       "\n",
       "    .dataframe tbody tr th {\n",
       "        vertical-align: top;\n",
       "    }\n",
       "\n",
       "    .dataframe thead th {\n",
       "        text-align: right;\n",
       "    }\n",
       "</style>\n",
       "<table border=\"1\" class=\"dataframe\">\n",
       "  <thead>\n",
       "    <tr style=\"text-align: right;\">\n",
       "      <th></th>\n",
       "      <th>unweighted_fairness</th>\n",
       "      <th>weighted_fairness</th>\n",
       "      <th>electorate_size</th>\n",
       "      <th>clusters</th>\n",
       "      <th>cluster_std</th>\n",
       "      <th>electoral_system</th>\n",
       "      <th>apathy_prob</th>\n",
       "      <th>candidates</th>\n",
       "      <th>issues</th>\n",
       "      <th>n_approvals_per_voter</th>\n",
       "    </tr>\n",
       "  </thead>\n",
       "  <tbody>\n",
       "    <tr>\n",
       "      <th>0</th>\n",
       "      <td>5.732</td>\n",
       "      <td>5.722</td>\n",
       "      <td>10000</td>\n",
       "      <td>1</td>\n",
       "      <td>1</td>\n",
       "      <td>majority</td>\n",
       "      <td>0</td>\n",
       "      <td>2</td>\n",
       "      <td>2</td>\n",
       "      <td>2</td>\n",
       "    </tr>\n",
       "    <tr>\n",
       "      <th>1</th>\n",
       "      <td>3.353</td>\n",
       "      <td>3.330</td>\n",
       "      <td>10000</td>\n",
       "      <td>1</td>\n",
       "      <td>1</td>\n",
       "      <td>majority</td>\n",
       "      <td>0</td>\n",
       "      <td>2</td>\n",
       "      <td>2</td>\n",
       "      <td>3</td>\n",
       "    </tr>\n",
       "    <tr>\n",
       "      <th>2</th>\n",
       "      <td>7.388</td>\n",
       "      <td>7.388</td>\n",
       "      <td>10000</td>\n",
       "      <td>1</td>\n",
       "      <td>1</td>\n",
       "      <td>majority</td>\n",
       "      <td>0</td>\n",
       "      <td>2</td>\n",
       "      <td>2</td>\n",
       "      <td>5</td>\n",
       "    </tr>\n",
       "    <tr>\n",
       "      <th>3</th>\n",
       "      <td>6.018</td>\n",
       "      <td>6.018</td>\n",
       "      <td>10000</td>\n",
       "      <td>1</td>\n",
       "      <td>1</td>\n",
       "      <td>majority</td>\n",
       "      <td>0</td>\n",
       "      <td>2</td>\n",
       "      <td>12</td>\n",
       "      <td>2</td>\n",
       "    </tr>\n",
       "    <tr>\n",
       "      <th>4</th>\n",
       "      <td>5.830</td>\n",
       "      <td>5.814</td>\n",
       "      <td>10000</td>\n",
       "      <td>1</td>\n",
       "      <td>1</td>\n",
       "      <td>majority</td>\n",
       "      <td>0</td>\n",
       "      <td>2</td>\n",
       "      <td>12</td>\n",
       "      <td>3</td>\n",
       "    </tr>\n",
       "    <tr>\n",
       "      <th>5</th>\n",
       "      <td>6.344</td>\n",
       "      <td>6.344</td>\n",
       "      <td>10000</td>\n",
       "      <td>1</td>\n",
       "      <td>1</td>\n",
       "      <td>majority</td>\n",
       "      <td>0</td>\n",
       "      <td>2</td>\n",
       "      <td>12</td>\n",
       "      <td>5</td>\n",
       "    </tr>\n",
       "    <tr>\n",
       "      <th>6</th>\n",
       "      <td>5.836</td>\n",
       "      <td>5.836</td>\n",
       "      <td>10000</td>\n",
       "      <td>1</td>\n",
       "      <td>1</td>\n",
       "      <td>majority</td>\n",
       "      <td>0</td>\n",
       "      <td>2</td>\n",
       "      <td>22</td>\n",
       "      <td>2</td>\n",
       "    </tr>\n",
       "    <tr>\n",
       "      <th>7</th>\n",
       "      <td>5.801</td>\n",
       "      <td>5.801</td>\n",
       "      <td>10000</td>\n",
       "      <td>1</td>\n",
       "      <td>1</td>\n",
       "      <td>majority</td>\n",
       "      <td>0</td>\n",
       "      <td>2</td>\n",
       "      <td>22</td>\n",
       "      <td>3</td>\n",
       "    </tr>\n",
       "    <tr>\n",
       "      <th>8</th>\n",
       "      <td>6.382</td>\n",
       "      <td>6.376</td>\n",
       "      <td>10000</td>\n",
       "      <td>1</td>\n",
       "      <td>1</td>\n",
       "      <td>majority</td>\n",
       "      <td>0</td>\n",
       "      <td>2</td>\n",
       "      <td>22</td>\n",
       "      <td>5</td>\n",
       "    </tr>\n",
       "    <tr>\n",
       "      <th>9</th>\n",
       "      <td>5.307</td>\n",
       "      <td>5.307</td>\n",
       "      <td>10000</td>\n",
       "      <td>1</td>\n",
       "      <td>1</td>\n",
       "      <td>majority</td>\n",
       "      <td>0</td>\n",
       "      <td>3</td>\n",
       "      <td>2</td>\n",
       "      <td>2</td>\n",
       "    </tr>\n",
       "  </tbody>\n",
       "</table>\n",
       "</div>"
      ],
      "text/plain": [
       "   unweighted_fairness  weighted_fairness  electorate_size  clusters  \\\n",
       "0                5.732              5.722            10000         1   \n",
       "1                3.353              3.330            10000         1   \n",
       "2                7.388              7.388            10000         1   \n",
       "3                6.018              6.018            10000         1   \n",
       "4                5.830              5.814            10000         1   \n",
       "5                6.344              6.344            10000         1   \n",
       "6                5.836              5.836            10000         1   \n",
       "7                5.801              5.801            10000         1   \n",
       "8                6.382              6.376            10000         1   \n",
       "9                5.307              5.307            10000         1   \n",
       "\n",
       "   cluster_std electoral_system  apathy_prob  candidates  issues  \\\n",
       "0            1         majority            0           2       2   \n",
       "1            1         majority            0           2       2   \n",
       "2            1         majority            0           2       2   \n",
       "3            1         majority            0           2      12   \n",
       "4            1         majority            0           2      12   \n",
       "5            1         majority            0           2      12   \n",
       "6            1         majority            0           2      22   \n",
       "7            1         majority            0           2      22   \n",
       "8            1         majority            0           2      22   \n",
       "9            1         majority            0           3       2   \n",
       "\n",
       "   n_approvals_per_voter  \n",
       "0                      2  \n",
       "1                      3  \n",
       "2                      5  \n",
       "3                      2  \n",
       "4                      3  \n",
       "5                      5  \n",
       "6                      2  \n",
       "7                      3  \n",
       "8                      5  \n",
       "9                      2  "
      ]
     },
     "execution_count": 9,
     "metadata": {},
     "output_type": "execute_result"
    }
   ],
   "source": [
    "results_df = pd.DataFrame.from_records(records)\n",
    "results_df"
   ]
  },
  {
   "cell_type": "markdown",
   "id": "8ac21288",
   "metadata": {},
   "source": [
    "##### Store data or read from already performed experiment files"
   ]
  },
  {
   "cell_type": "code",
   "execution_count": 7,
   "id": "2e747b16",
   "metadata": {},
   "outputs": [],
   "source": [
    "filepath = \"data/plurality-vs-majority-vs-ranked-420e25f5-2ead-4b71-8e35-3e2759137939.csv\""
   ]
  },
  {
   "cell_type": "code",
   "execution_count": 6,
   "id": "40ad4263",
   "metadata": {},
   "outputs": [
    {
     "ename": "AssertionError",
     "evalue": "data export already exists. Use a new uuid to prevent overwriting",
     "output_type": "error",
     "traceback": [
      "\u001b[0;31m---------------------------------------------------------------------------\u001b[0m",
      "\u001b[0;31mAssertionError\u001b[0m                            Traceback (most recent call last)",
      "Cell \u001b[0;32mIn[6], line 2\u001b[0m\n\u001b[1;32m      1\u001b[0m \u001b[38;5;66;03m# cache data so we don't need to start from scratch\u001b[39;00m\n\u001b[0;32m----> 2\u001b[0m \u001b[38;5;28;01massert\u001b[39;00m \u001b[38;5;129;01mnot\u001b[39;00m os\u001b[38;5;241m.\u001b[39mpath\u001b[38;5;241m.\u001b[39misfile(filepath), \u001b[38;5;124m\"\u001b[39m\u001b[38;5;124mdata export already exists. Use a new uuid to prevent overwriting\u001b[39m\u001b[38;5;124m\"\u001b[39m\n\u001b[1;32m      3\u001b[0m results_df\u001b[38;5;241m.\u001b[39mto_csv(filepath, index\u001b[38;5;241m=\u001b[39m\u001b[38;5;28;01mFalse\u001b[39;00m)\n\u001b[1;32m      4\u001b[0m results_df \u001b[38;5;241m=\u001b[39m pd\u001b[38;5;241m.\u001b[39mread_csv(filepath)\n",
      "\u001b[0;31mAssertionError\u001b[0m: data export already exists. Use a new uuid to prevent overwriting"
     ]
    }
   ],
   "source": [
    "# cache data so we don't need to start from scratch\n",
    "assert not os.path.isfile(filepath), \"data export already exists. Use a new uuid to prevent overwriting\"\n",
    "results_df.to_csv(filepath, index=False)\n",
    "results_df = pd.read_csv(filepath)"
   ]
  },
  {
   "cell_type": "code",
   "execution_count": 8,
   "id": "58a727bc",
   "metadata": {},
   "outputs": [],
   "source": [
    "# read from cache \n",
    "results_df = pd.read_csv(filepath)"
   ]
  },
  {
   "cell_type": "markdown",
   "id": "7d8a95e8",
   "metadata": {},
   "source": [
    "# Investigation of fairness between majority and pluralism"
   ]
  },
  {
   "cell_type": "code",
   "execution_count": 9,
   "id": "8ad64aaf",
   "metadata": {},
   "outputs": [],
   "source": [
    "# generate correlation matrices for both different systems\n",
    "majority = results_df.electoral_system == \"majority\"\n",
    "plurality = results_df.electoral_system == \"plurality\"\n",
    "approval = results_df.electoral_system == \"approval\""
   ]
  },
  {
   "cell_type": "code",
   "execution_count": 10,
   "id": "955a80bd",
   "metadata": {},
   "outputs": [],
   "source": [
    "majority_subset = results_df[majority].drop([\"electoral_system\"], axis=1) \n",
    "plurality_subset = results_df[plurality].drop([\"electoral_system\"], axis=1)\n",
    "approval_subset = results_df[approval].drop([\"electoral_system\"], axis=1)"
   ]
  },
  {
   "cell_type": "code",
   "execution_count": 14,
   "id": "2a3c1919",
   "metadata": {},
   "outputs": [
    {
     "data": {
      "text/html": [
       "<div>\n",
       "<style scoped>\n",
       "    .dataframe tbody tr th:only-of-type {\n",
       "        vertical-align: middle;\n",
       "    }\n",
       "\n",
       "    .dataframe tbody tr th {\n",
       "        vertical-align: top;\n",
       "    }\n",
       "\n",
       "    .dataframe thead th {\n",
       "        text-align: right;\n",
       "    }\n",
       "</style>\n",
       "<table border=\"1\" class=\"dataframe\">\n",
       "  <thead>\n",
       "    <tr style=\"text-align: right;\">\n",
       "      <th></th>\n",
       "      <th>electorate_size</th>\n",
       "      <th>clusters</th>\n",
       "      <th>cluster_std</th>\n",
       "      <th>apathy_prob</th>\n",
       "      <th>candidates</th>\n",
       "      <th>issues</th>\n",
       "      <th>n_approvals_per_voter</th>\n",
       "    </tr>\n",
       "  </thead>\n",
       "  <tbody>\n",
       "    <tr>\n",
       "      <th>486</th>\n",
       "      <td>10000</td>\n",
       "      <td>1</td>\n",
       "      <td>1</td>\n",
       "      <td>0.00</td>\n",
       "      <td>2</td>\n",
       "      <td>2</td>\n",
       "      <td>2</td>\n",
       "    </tr>\n",
       "    <tr>\n",
       "      <th>487</th>\n",
       "      <td>10000</td>\n",
       "      <td>1</td>\n",
       "      <td>1</td>\n",
       "      <td>0.00</td>\n",
       "      <td>2</td>\n",
       "      <td>12</td>\n",
       "      <td>2</td>\n",
       "    </tr>\n",
       "    <tr>\n",
       "      <th>488</th>\n",
       "      <td>10000</td>\n",
       "      <td>1</td>\n",
       "      <td>1</td>\n",
       "      <td>0.00</td>\n",
       "      <td>2</td>\n",
       "      <td>22</td>\n",
       "      <td>2</td>\n",
       "    </tr>\n",
       "    <tr>\n",
       "      <th>489</th>\n",
       "      <td>10000</td>\n",
       "      <td>1</td>\n",
       "      <td>1</td>\n",
       "      <td>0.00</td>\n",
       "      <td>3</td>\n",
       "      <td>2</td>\n",
       "      <td>2</td>\n",
       "    </tr>\n",
       "    <tr>\n",
       "      <th>490</th>\n",
       "      <td>10000</td>\n",
       "      <td>1</td>\n",
       "      <td>1</td>\n",
       "      <td>0.00</td>\n",
       "      <td>3</td>\n",
       "      <td>2</td>\n",
       "      <td>3</td>\n",
       "    </tr>\n",
       "    <tr>\n",
       "      <th>...</th>\n",
       "      <td>...</td>\n",
       "      <td>...</td>\n",
       "      <td>...</td>\n",
       "      <td>...</td>\n",
       "      <td>...</td>\n",
       "      <td>...</td>\n",
       "      <td>...</td>\n",
       "    </tr>\n",
       "    <tr>\n",
       "      <th>16627</th>\n",
       "      <td>25000</td>\n",
       "      <td>25</td>\n",
       "      <td>3</td>\n",
       "      <td>0.05</td>\n",
       "      <td>10</td>\n",
       "      <td>12</td>\n",
       "      <td>3</td>\n",
       "    </tr>\n",
       "    <tr>\n",
       "      <th>16628</th>\n",
       "      <td>25000</td>\n",
       "      <td>25</td>\n",
       "      <td>3</td>\n",
       "      <td>0.05</td>\n",
       "      <td>10</td>\n",
       "      <td>12</td>\n",
       "      <td>5</td>\n",
       "    </tr>\n",
       "    <tr>\n",
       "      <th>16629</th>\n",
       "      <td>25000</td>\n",
       "      <td>25</td>\n",
       "      <td>3</td>\n",
       "      <td>0.05</td>\n",
       "      <td>10</td>\n",
       "      <td>22</td>\n",
       "      <td>2</td>\n",
       "    </tr>\n",
       "    <tr>\n",
       "      <th>16630</th>\n",
       "      <td>25000</td>\n",
       "      <td>25</td>\n",
       "      <td>3</td>\n",
       "      <td>0.05</td>\n",
       "      <td>10</td>\n",
       "      <td>22</td>\n",
       "      <td>3</td>\n",
       "    </tr>\n",
       "    <tr>\n",
       "      <th>16631</th>\n",
       "      <td>25000</td>\n",
       "      <td>25</td>\n",
       "      <td>3</td>\n",
       "      <td>0.05</td>\n",
       "      <td>10</td>\n",
       "      <td>22</td>\n",
       "      <td>5</td>\n",
       "    </tr>\n",
       "  </tbody>\n",
       "</table>\n",
       "<p>4968 rows × 7 columns</p>\n",
       "</div>"
      ],
      "text/plain": [
       "       electorate_size  clusters  cluster_std  apathy_prob  candidates  \\\n",
       "486              10000         1            1         0.00           2   \n",
       "487              10000         1            1         0.00           2   \n",
       "488              10000         1            1         0.00           2   \n",
       "489              10000         1            1         0.00           3   \n",
       "490              10000         1            1         0.00           3   \n",
       "...                ...       ...          ...          ...         ...   \n",
       "16627            25000        25            3         0.05          10   \n",
       "16628            25000        25            3         0.05          10   \n",
       "16629            25000        25            3         0.05          10   \n",
       "16630            25000        25            3         0.05          10   \n",
       "16631            25000        25            3         0.05          10   \n",
       "\n",
       "       issues  n_approvals_per_voter  \n",
       "486         2                      2  \n",
       "487        12                      2  \n",
       "488        22                      2  \n",
       "489         2                      2  \n",
       "490         2                      3  \n",
       "...       ...                    ...  \n",
       "16627      12                      3  \n",
       "16628      12                      5  \n",
       "16629      22                      2  \n",
       "16630      22                      3  \n",
       "16631      22                      5  \n",
       "\n",
       "[4968 rows x 7 columns]"
      ]
     },
     "execution_count": 14,
     "metadata": {},
     "output_type": "execute_result"
    }
   ],
   "source": [
    "approval_subset"
   ]
  },
  {
   "cell_type": "code",
   "execution_count": 13,
   "id": "c693e2f1",
   "metadata": {},
   "outputs": [
    {
     "ename": "AttributeError",
     "evalue": "'DataFrame' object has no attribute 'weighted_fairness'",
     "output_type": "error",
     "traceback": [
      "\u001b[0;31m---------------------------------------------------------------------------\u001b[0m",
      "\u001b[0;31mAttributeError\u001b[0m                            Traceback (most recent call last)",
      "Cell \u001b[0;32mIn[13], line 2\u001b[0m\n\u001b[1;32m      1\u001b[0m \u001b[38;5;66;03m# vector of correlation with fairness for both systems\u001b[39;00m\n\u001b[0;32m----> 2\u001b[0m majority_corr_record \u001b[38;5;241m=\u001b[39m \u001b[38;5;28mdict\u001b[39m(\u001b[38;5;241m*\u001b[39m\u001b[38;5;241m*\u001b[39mmajority_subset\u001b[38;5;241m.\u001b[39mcorrwith(\u001b[43mmajority_subset\u001b[49m\u001b[38;5;241;43m.\u001b[39;49m\u001b[43mweighted_fairness\u001b[49m), \u001b[38;5;241m*\u001b[39m\u001b[38;5;241m*\u001b[39m{\u001b[38;5;124m\"\u001b[39m\u001b[38;5;124melectoral_system\u001b[39m\u001b[38;5;124m\"\u001b[39m: \u001b[38;5;124m\"\u001b[39m\u001b[38;5;124mmajority\u001b[39m\u001b[38;5;124m\"\u001b[39m})\n\u001b[1;32m      3\u001b[0m plurality_corr_record \u001b[38;5;241m=\u001b[39m \u001b[38;5;28mdict\u001b[39m(\u001b[38;5;241m*\u001b[39m\u001b[38;5;241m*\u001b[39mplurality_subset\u001b[38;5;241m.\u001b[39mcorrwith(plurality_subset\u001b[38;5;241m.\u001b[39mweighted_fairness), \u001b[38;5;241m*\u001b[39m\u001b[38;5;241m*\u001b[39m{\u001b[38;5;124m\"\u001b[39m\u001b[38;5;124melectoral_system\u001b[39m\u001b[38;5;124m\"\u001b[39m: \u001b[38;5;124m\"\u001b[39m\u001b[38;5;124mplurality\u001b[39m\u001b[38;5;124m\"\u001b[39m})\n\u001b[1;32m      4\u001b[0m approval_corr_record \u001b[38;5;241m=\u001b[39m \u001b[38;5;28mdict\u001b[39m(\u001b[38;5;241m*\u001b[39m\u001b[38;5;241m*\u001b[39mapproval_subset\u001b[38;5;241m.\u001b[39mcorrwith(approval_subset\u001b[38;5;241m.\u001b[39mweighted_fairness), \u001b[38;5;241m*\u001b[39m\u001b[38;5;241m*\u001b[39m{\u001b[38;5;124m\"\u001b[39m\u001b[38;5;124melectoral_system\u001b[39m\u001b[38;5;124m\"\u001b[39m: \u001b[38;5;124m\"\u001b[39m\u001b[38;5;124mapproval\u001b[39m\u001b[38;5;124m\"\u001b[39m})\n",
      "File \u001b[0;32m/Library/Frameworks/Python.framework/Versions/3.11/lib/python3.11/site-packages/pandas/core/generic.py:5902\u001b[0m, in \u001b[0;36mNDFrame.__getattr__\u001b[0;34m(self, name)\u001b[0m\n\u001b[1;32m   5895\u001b[0m \u001b[38;5;28;01mif\u001b[39;00m (\n\u001b[1;32m   5896\u001b[0m     name \u001b[38;5;129;01mnot\u001b[39;00m \u001b[38;5;129;01min\u001b[39;00m \u001b[38;5;28mself\u001b[39m\u001b[38;5;241m.\u001b[39m_internal_names_set\n\u001b[1;32m   5897\u001b[0m     \u001b[38;5;129;01mand\u001b[39;00m name \u001b[38;5;129;01mnot\u001b[39;00m \u001b[38;5;129;01min\u001b[39;00m \u001b[38;5;28mself\u001b[39m\u001b[38;5;241m.\u001b[39m_metadata\n\u001b[1;32m   5898\u001b[0m     \u001b[38;5;129;01mand\u001b[39;00m name \u001b[38;5;129;01mnot\u001b[39;00m \u001b[38;5;129;01min\u001b[39;00m \u001b[38;5;28mself\u001b[39m\u001b[38;5;241m.\u001b[39m_accessors\n\u001b[1;32m   5899\u001b[0m     \u001b[38;5;129;01mand\u001b[39;00m \u001b[38;5;28mself\u001b[39m\u001b[38;5;241m.\u001b[39m_info_axis\u001b[38;5;241m.\u001b[39m_can_hold_identifiers_and_holds_name(name)\n\u001b[1;32m   5900\u001b[0m ):\n\u001b[1;32m   5901\u001b[0m     \u001b[38;5;28;01mreturn\u001b[39;00m \u001b[38;5;28mself\u001b[39m[name]\n\u001b[0;32m-> 5902\u001b[0m \u001b[38;5;28;01mreturn\u001b[39;00m \u001b[38;5;28;43mobject\u001b[39;49m\u001b[38;5;241;43m.\u001b[39;49m\u001b[38;5;21;43m__getattribute__\u001b[39;49m\u001b[43m(\u001b[49m\u001b[38;5;28;43mself\u001b[39;49m\u001b[43m,\u001b[49m\u001b[43m \u001b[49m\u001b[43mname\u001b[49m\u001b[43m)\u001b[49m\n",
      "\u001b[0;31mAttributeError\u001b[0m: 'DataFrame' object has no attribute 'weighted_fairness'"
     ]
    }
   ],
   "source": [
    "# vector of correlation with fairness for both systems\n",
    "majority_corr_record = dict(**majority_subset.corrwith(majority_subset.weighted_fairness), **{\"electoral_system\": \"majority\"})\n",
    "plurality_corr_record = dict(**plurality_subset.corrwith(plurality_subset.weighted_fairness), **{\"electoral_system\": \"plurality\"})\n",
    "approval_corr_record = dict(**approval_subset.corrwith(approval_subset.weighted_fairness), **{\"electoral_system\": \"approval\"})"
   ]
  },
  {
   "cell_type": "code",
   "execution_count": null,
   "id": "140a631e",
   "metadata": {},
   "outputs": [],
   "source": [
    "approval_corr_record"
   ]
  },
  {
   "cell_type": "code",
   "execution_count": null,
   "id": "0c902c90",
   "metadata": {},
   "outputs": [],
   "source": [
    "# compose to make plotting easier\n",
    "corr_df = pd.DataFrame.from_records([majority_corr_record, plurality_corr_record, approval_corr_record]).drop([\"clusters\", \"fairness\"], axis=1)"
   ]
  },
  {
   "cell_type": "code",
   "execution_count": null,
   "id": "6be08758",
   "metadata": {},
   "outputs": [],
   "source": [
    "corr_df"
   ]
  },
  {
   "cell_type": "code",
   "execution_count": null,
   "id": "bf79e76d",
   "metadata": {},
   "outputs": [],
   "source": [
    "# convert to long to enable bar plot\n",
    "long_corr_cols = [\"measure\", \"value\", \"electoral_system\"]\n",
    "long_corr_df = pd.DataFrame(columns=long_corr_cols)\n",
    "\n",
    "for system in [\"majority\", \"plurality\", \"approval\"]:\n",
    "    for measure in corr_df.columns:   \n",
    "        for value in corr_df[ corr_df.electoral_system == system ][measure]:\n",
    "            row = pd.DataFrame.from_records([{ \"measure\": measure, \"value\": value, \"electoral_system\": system }])\n",
    "            long_corr_df = pd.concat([long_corr_df, row])\n",
    "        \n",
    "long_corr_df = long_corr_df.reset_index().drop(\"index\", axis=1).drop([4, 9], axis=0)"
   ]
  },
  {
   "cell_type": "code",
   "execution_count": null,
   "id": "17c768c8",
   "metadata": {},
   "outputs": [],
   "source": [
    "long_corr_df"
   ]
  },
  {
   "cell_type": "code",
   "execution_count": null,
   "id": "d92b8e8c",
   "metadata": {
    "scrolled": false
   },
   "outputs": [],
   "source": [
    "# drop the odd rows with non numerical value and plot\n",
    "cleaned_long_corr = long_corr_df.drop([5, 11], axis=0)\n",
    "\n",
    "fig, ax1 = plt.subplots(1, 1, figsize=(8, 4), tight_layout=True)\n",
    "sns.barplot(data=cleaned_long_corr, x=\"measure\", y=\"value\", hue=\"electoral_system\", ax=ax1)\n",
    "ax1.set_ylim([-0.05, 0.05])\n",
    "ax1.grid(axis=\"y\")\n",
    "ax1.set_ylabel(\"Correlation\")\n",
    "fig.suptitle(\"Measure correlation with fairness\")\n",
    "plt.show()"
   ]
  },
  {
   "cell_type": "markdown",
   "id": "e5a4b976",
   "metadata": {},
   "source": [
    "## Verify resuts via significance testing"
   ]
  },
  {
   "cell_type": "code",
   "execution_count": null,
   "id": "9d8fb710",
   "metadata": {},
   "outputs": [],
   "source": [
    "import statsmodels.api as sm"
   ]
  },
  {
   "cell_type": "code",
   "execution_count": null,
   "id": "a70130ae",
   "metadata": {},
   "outputs": [],
   "source": [
    "# reusing prior wide representation with OLS model\n",
    "# see https://www.statsmodels.org/dev/generated/statsmodels.regression.linear_model.OLS.html"
   ]
  },
  {
   "cell_type": "code",
   "execution_count": null,
   "id": "1531124d",
   "metadata": {},
   "outputs": [],
   "source": [
    "# before model, cast electoral_system to binary flag to enable regression\n",
    "results_df[\"majority_electoral_system\"] = results_df.electoral_system.map(lambda x: int(x == \"majority\"))"
   ]
  },
  {
   "cell_type": "code",
   "execution_count": null,
   "id": "ddd775f6",
   "metadata": {},
   "outputs": [],
   "source": [
    "results_df"
   ]
  },
  {
   "cell_type": "code",
   "execution_count": null,
   "id": "35ff3a8d",
   "metadata": {},
   "outputs": [],
   "source": [
    "target = \"fairness\"\n",
    "features = [c for c in results_df.columns if c not in [\"fairness\", \"electoral_system\"]]\n",
    "ols = sm.OLS(endog=results_df[target], exog=results_df[features]).fit()"
   ]
  },
  {
   "cell_type": "code",
   "execution_count": null,
   "id": "1e1d51da",
   "metadata": {},
   "outputs": [],
   "source": [
    "ols.summary()"
   ]
  },
  {
   "cell_type": "code",
   "execution_count": null,
   "id": "282cd06d",
   "metadata": {},
   "outputs": [],
   "source": []
  }
 ],
 "metadata": {
  "kernelspec": {
   "display_name": "Python 3 (ipykernel)",
   "language": "python",
   "name": "python3"
  },
  "language_info": {
   "codemirror_mode": {
    "name": "ipython",
    "version": 3
   },
   "file_extension": ".py",
   "mimetype": "text/x-python",
   "name": "python",
   "nbconvert_exporter": "python",
   "pygments_lexer": "ipython3",
   "version": "3.11.1"
  }
 },
 "nbformat": 4,
 "nbformat_minor": 5
}
