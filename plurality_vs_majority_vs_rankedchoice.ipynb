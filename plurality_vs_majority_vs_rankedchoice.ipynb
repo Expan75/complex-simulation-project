{
 "cells": [
  {
   "cell_type": "code",
   "execution_count": null,
   "id": "384d1594",
   "metadata": {},
   "outputs": [],
   "source": [
    "import os\n",
    "import sys\n",
    "import logging\n",
    "import itertools\n",
    "import numpy as np\n",
    "import pandas as pd\n",
    "import seaborn as sns\n",
    "import matplotlib.pyplot as plt\n",
    "from tqdm import tqdm\n",
    "from typing import Dict, Any, List, Generator"
   ]
  },
  {
   "cell_type": "code",
   "execution_count": 2,
   "id": "80fb7c95",
   "metadata": {},
   "outputs": [],
   "source": [
    "# package imports\n",
    "from vsim import electorate, candidates, simulation, voting_system"
   ]
  },
  {
   "cell_type": "code",
   "execution_count": null,
   "id": "57418af2",
   "metadata": {},
   "outputs": [
    {
     "name": "stderr",
     "output_type": "stream",
     "text": [
      " 15%|████▏                      | 2680/17496 [06:02<15:23, 16.05it/s]"
     ]
    }
   ],
   "source": [
    "# setup helper for generating experiments (basically all sets of params to run through sim)\n",
    "def generate_experiment_matrix(experiments: Dict[str, List[Any]]):\n",
    "    return (dict(zip(experiments, x)) for x in itertools.product(*experiments.values()))\n",
    "\n",
    "\n",
    "experiments = {\n",
    "    \"electorate_size\": [10_000, 25_000], # not O(n^2) with KDTree, but still bad\n",
    "    \"clusters\": [1, 2, 10, 25],\n",
    "    \"cluster_std\": [1, 2, 3],\n",
    "    \"electoral_system\": [\"majority\", \"plurality\", \"approval\"],\n",
    "    \"apathy_prob\": [0, 0.01, 0.05],\n",
    "    \"candidates\": np.arange(2, 10 + 1),\n",
    "    \"issues\": np.arange(2, 25, 10, dtype=int),\n",
    "    \"n_approvals_per_voter\": [2, 3, 5]\n",
    "}\n",
    "\n",
    "records = []\n",
    "columns = [*experiments.keys(), \"fairness\"]\n",
    "experiment_matrix = list(generate_experiment_matrix(experiments))\n",
    "\n",
    "for params in tqdm(experiment_matrix):\n",
    "    \n",
    "    # setup objects\n",
    "    voters = electorate.setup_electorate(**params)\n",
    "    parties = candidates.setup_candidates(**params, electorate=voters)\n",
    "    system = voting_system.setup_voting_system(name=params[\"electoral_system\"], **params)\n",
    "    \n",
    "    # simulate elections\n",
    "    sim = simulation.VotingSimulator(electorate=voters, candidates=parties, system=system, log=logging.getLogger())\n",
    "    \n",
    "    try:    \n",
    "        result = sim.run()\n",
    "        result_record = { \n",
    "            \"unweighted_fairness\": round(result.unweighted_fairness, 3),\n",
    "            \"weighted_fairness\": round(result.weighted_fairness, 3),\n",
    "            **params,\n",
    "        }\n",
    "        result_record = {k: v for k, v in result_record.items() if k in columns}\n",
    "        records.append(result_record)\n",
    "    except AssertionError as e:\n",
    "        if e is AssertionError(\"more votes than candidates\"):\n",
    "            continue"
   ]
  },
  {
   "cell_type": "code",
   "execution_count": null,
   "id": "eccfd07e",
   "metadata": {},
   "outputs": [],
   "source": [
    "results_df = pd.DataFrame.from_records(records)\n",
    "results_df"
   ]
  },
  {
   "cell_type": "markdown",
   "id": "8ac21288",
   "metadata": {},
   "source": [
    "##### Store data or read from already performed experiment files"
   ]
  },
  {
   "cell_type": "code",
   "execution_count": null,
   "id": "2e747b16",
   "metadata": {},
   "outputs": [],
   "source": [
    "filepath = \"data/plurality-vs-majority-vs-ranked-a70ea6c3-7107-4de3-a7d4-a1c1ae43878a.csv\""
   ]
  },
  {
   "cell_type": "code",
   "execution_count": null,
   "id": "40ad4263",
   "metadata": {},
   "outputs": [],
   "source": [
    "# cache data so we don't need to start from scratch\n",
    "assert not os.path.isfile(filepath), \"data export already exists. Use a new uuid to prevent overwriting\"\n",
    "results_df.to_csv(filepath, index=False)\n",
    "results_df = pd.read_csv(filepath)"
   ]
  },
  {
   "cell_type": "code",
   "execution_count": null,
   "id": "58a727bc",
   "metadata": {},
   "outputs": [],
   "source": [
    "# read from cache \n",
    "results_df = pd.read_csv(filepath)"
   ]
  },
  {
   "cell_type": "markdown",
   "id": "7d8a95e8",
   "metadata": {},
   "source": [
    "# Investigation of fairness between majority and pluralism"
   ]
  },
  {
   "cell_type": "code",
   "execution_count": null,
   "id": "8ad64aaf",
   "metadata": {},
   "outputs": [],
   "source": [
    "# generate correlation matrices for both different systems\n",
    "majority = results_df.electoral_system == \"majority\"\n",
    "plurality = results_df.electoral_system == \"plurality\"\n",
    "approval = results_df.electoral_system == \"approval\""
   ]
  },
  {
   "cell_type": "code",
   "execution_count": null,
   "id": "955a80bd",
   "metadata": {},
   "outputs": [],
   "source": [
    "majority_subset = results_df[majority].drop([\"electoral_system\"], axis=1) \n",
    "plurality_subset = results_df[plurality].drop([\"electoral_system\"], axis=1)\n",
    "approval_subset = results_df[approval].drop([\"electoral_system\"], axis=1)"
   ]
  },
  {
   "cell_type": "code",
   "execution_count": null,
   "id": "2a3c1919",
   "metadata": {},
   "outputs": [],
   "source": [
    "approval_subset"
   ]
  },
  {
   "cell_type": "code",
   "execution_count": null,
   "id": "c693e2f1",
   "metadata": {},
   "outputs": [],
   "source": [
    "# vector of correlation with fairness for both systems\n",
    "majority_corr_record = dict(**majority_subset.corrwith(majority_subset.fairness), **{\"electoral_system\": \"majority\"})\n",
    "plurality_corr_record = dict(**plurality_subset.corrwith(plurality_subset.fairness), **{\"electoral_system\": \"plurality\"})\n",
    "approval_corr_record = dict(**approval_subset.corrwith(approval_subset.fairness), **{\"electoral_system\": \"plurality\"})"
   ]
  },
  {
   "cell_type": "code",
   "execution_count": null,
   "id": "140a631e",
   "metadata": {},
   "outputs": [],
   "source": [
    "majority_corr_record"
   ]
  },
  {
   "cell_type": "code",
   "execution_count": null,
   "id": "0c902c90",
   "metadata": {},
   "outputs": [],
   "source": [
    "# compose to make plotting easier\n",
    "corr_df = pd.DataFrame.from_records([majority_corr_record, plurality_corr_record]).drop([\"clusters\", \"fairness\"], axis=1)"
   ]
  },
  {
   "cell_type": "code",
   "execution_count": null,
   "id": "6be08758",
   "metadata": {},
   "outputs": [],
   "source": [
    "corr_df"
   ]
  },
  {
   "cell_type": "code",
   "execution_count": null,
   "id": "bf79e76d",
   "metadata": {},
   "outputs": [],
   "source": [
    "# convert to long to enable bar plot\n",
    "long_corr_cols = [\"measure\", \"value\", \"electoral_system\"]\n",
    "long_corr_df = pd.DataFrame(columns=long_corr_cols)\n",
    "\n",
    "for system in [\"majority\", \"plurality\"]:\n",
    "    for measure in corr_df.columns:   \n",
    "        for value in corr_df[ corr_df.electoral_system == system ][measure]:\n",
    "            row = pd.DataFrame.from_records([{ \"measure\": measure, \"value\": value, \"electoral_system\": system }])\n",
    "            long_corr_df = pd.concat([long_corr_df, row])\n",
    "        \n",
    "long_corr_df = long_corr_df.reset_index().drop(\"index\", axis=1).drop([4, 9], axis=0)"
   ]
  },
  {
   "cell_type": "code",
   "execution_count": null,
   "id": "17c768c8",
   "metadata": {},
   "outputs": [],
   "source": [
    "long_corr_df"
   ]
  },
  {
   "cell_type": "code",
   "execution_count": null,
   "id": "d92b8e8c",
   "metadata": {
    "scrolled": false
   },
   "outputs": [],
   "source": [
    "# drop the odd rows with non numerical value and plot\n",
    "cleaned_long_corr = long_corr_df.drop([5, 11], axis=0)\n",
    "\n",
    "fig, ax1 = plt.subplots(1, 1, figsize=(8, 4), tight_layout=True)\n",
    "sns.barplot(data=cleaned_long_corr, x=\"measure\", y=\"value\", hue=\"electoral_system\", ax=ax1)\n",
    "ax1.set_ylim([-0.05, 0.05])\n",
    "ax1.grid(axis=\"y\")\n",
    "ax1.set_ylabel(\"Correlation\")\n",
    "fig.suptitle(\"Measure correlation with fairness\")\n",
    "plt.show()"
   ]
  },
  {
   "cell_type": "markdown",
   "id": "e5a4b976",
   "metadata": {},
   "source": [
    "## Verify resuts via significance testing"
   ]
  },
  {
   "cell_type": "code",
   "execution_count": null,
   "id": "9d8fb710",
   "metadata": {},
   "outputs": [],
   "source": [
    "import statsmodels.api as sm"
   ]
  },
  {
   "cell_type": "code",
   "execution_count": null,
   "id": "a70130ae",
   "metadata": {},
   "outputs": [],
   "source": [
    "# reusing prior wide representation with OLS model\n",
    "# see https://www.statsmodels.org/dev/generated/statsmodels.regression.linear_model.OLS.html"
   ]
  },
  {
   "cell_type": "code",
   "execution_count": null,
   "id": "1531124d",
   "metadata": {},
   "outputs": [],
   "source": [
    "# before model, cast electoral_system to binary flag to enable regression\n",
    "results_df[\"majority_electoral_system\"] = results_df.electoral_system.map(lambda x: int(x == \"majority\"))"
   ]
  },
  {
   "cell_type": "code",
   "execution_count": null,
   "id": "ddd775f6",
   "metadata": {},
   "outputs": [],
   "source": [
    "results_df"
   ]
  },
  {
   "cell_type": "code",
   "execution_count": null,
   "id": "35ff3a8d",
   "metadata": {},
   "outputs": [],
   "source": [
    "target = \"fairness\"\n",
    "features = [c for c in results_df.columns if c not in [\"fairness\", \"electoral_system\"]]\n",
    "ols = sm.OLS(endog=results_df[target], exog=results_df[features]).fit()"
   ]
  },
  {
   "cell_type": "code",
   "execution_count": null,
   "id": "1e1d51da",
   "metadata": {},
   "outputs": [],
   "source": [
    "ols.summary()"
   ]
  },
  {
   "cell_type": "code",
   "execution_count": null,
   "id": "282cd06d",
   "metadata": {},
   "outputs": [],
   "source": []
  }
 ],
 "metadata": {
  "kernelspec": {
   "display_name": "Python 3 (ipykernel)",
   "language": "python",
   "name": "python3"
  },
  "language_info": {
   "codemirror_mode": {
    "name": "ipython",
    "version": 3
   },
   "file_extension": ".py",
   "mimetype": "text/x-python",
   "name": "python",
   "nbconvert_exporter": "python",
   "pygments_lexer": "ipython3",
   "version": "3.11.1"
  }
 },
 "nbformat": 4,
 "nbformat_minor": 5
}
