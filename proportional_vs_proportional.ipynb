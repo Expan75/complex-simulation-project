{
 "cells": [
  {
   "cell_type": "code",
   "execution_count": null,
   "id": "384d1594",
   "metadata": {},
   "outputs": [],
   "source": [
    "import os\n",
    "import sys\n",
    "import logging\n",
    "import itertools\n",
    "import numpy as np\n",
    "import pandas as pd\n",
    "import seaborn as sns\n",
    "import matplotlib.pyplot as plt\n",
    "from tqdm import tqdm\n",
    "from typing import Dict, Any, List, Generator"
   ]
  },
  {
   "cell_type": "code",
   "execution_count": null,
   "id": "80fb7c95",
   "metadata": {},
   "outputs": [],
   "source": [
    "# package imports\n",
    "from vsim import electorate, candidates, simulation, voting_system"
   ]
  },
  {
   "cell_type": "markdown",
   "id": "61481b59",
   "metadata": {},
   "source": [
    "# Analysing proportional voting systems\n",
    "\n",
    "We'll be using the case study of the Swedish parlimentary election systems, namely that there exists n-parties, voters vote for the preferred option (using the distance method we described earlier). The difference is the \"winner\" is not as well defined. "
   ]
  },
  {
   "cell_type": "code",
   "execution_count": 3,
   "id": "57418af2",
   "metadata": {},
   "outputs": [
    {
     "name": "stderr",
     "output_type": "stream",
     "text": [
      "  0%|                                           | 0/10 [00:00<?, ?it/s]\n"
     ]
    },
    {
     "ename": "TypeError",
     "evalue": "Axis must be specified when shapes of a and weights differ.",
     "output_type": "error",
     "traceback": [
      "\u001b[0;31m---------------------------------------------------------------------------\u001b[0m",
      "\u001b[0;31mTypeError\u001b[0m                                 Traceback (most recent call last)",
      "Cell \u001b[0;32mIn[3], line 44\u001b[0m\n\u001b[1;32m     41\u001b[0m \u001b[38;5;66;03m# simulate elections\u001b[39;00m\n\u001b[1;32m     42\u001b[0m sim \u001b[38;5;241m=\u001b[39m simulation\u001b[38;5;241m.\u001b[39mVotingSimulator(electorate\u001b[38;5;241m=\u001b[39mvoters, candidates\u001b[38;5;241m=\u001b[39mparties, system\u001b[38;5;241m=\u001b[39msystem, log\u001b[38;5;241m=\u001b[39mlogging\u001b[38;5;241m.\u001b[39mgetLogger())\n\u001b[0;32m---> 44\u001b[0m result \u001b[38;5;241m=\u001b[39m \u001b[43msim\u001b[49m\u001b[38;5;241;43m.\u001b[39;49m\u001b[43mrun\u001b[49m\u001b[43m(\u001b[49m\u001b[43m)\u001b[49m\n\u001b[1;32m     45\u001b[0m result_record \u001b[38;5;241m=\u001b[39m { \u001b[38;5;124m\"\u001b[39m\u001b[38;5;124mfairness\u001b[39m\u001b[38;5;124m\"\u001b[39m: \u001b[38;5;28mround\u001b[39m(result\u001b[38;5;241m.\u001b[39mmeasured_fairness, \u001b[38;5;241m3\u001b[39m), \u001b[38;5;241m*\u001b[39m\u001b[38;5;241m*\u001b[39mparams }\n\u001b[1;32m     46\u001b[0m result_record \u001b[38;5;241m=\u001b[39m {k: v \u001b[38;5;28;01mfor\u001b[39;00m k, v \u001b[38;5;129;01min\u001b[39;00m result_record\u001b[38;5;241m.\u001b[39mitems() \u001b[38;5;28;01mif\u001b[39;00m k \u001b[38;5;129;01min\u001b[39;00m columns}\n",
      "File \u001b[0;32m~/uni/chalmers/complex-simulation-project/vsim/simulation.py:112\u001b[0m, in \u001b[0;36mVotingSimulator.run\u001b[0;34m(self)\u001b[0m\n\u001b[1;32m    107\u001b[0m \u001b[38;5;28mself\u001b[39m\u001b[38;5;241m.\u001b[39mlog\u001b[38;5;241m.\u001b[39mdebug(\u001b[38;5;124m\"\u001b[39m\u001b[38;5;124mrunning voting sim\u001b[39m\u001b[38;5;124m\"\u001b[39m)\n\u001b[1;32m    108\u001b[0m result \u001b[38;5;241m=\u001b[39m \u001b[38;5;28mself\u001b[39m\u001b[38;5;241m.\u001b[39mvoting_system\u001b[38;5;241m.\u001b[39melect(\u001b[38;5;28mself\u001b[39m\u001b[38;5;241m.\u001b[39melectorate, \u001b[38;5;28mself\u001b[39m\u001b[38;5;241m.\u001b[39mcandidates)\n\u001b[1;32m    109\u001b[0m simulation_result \u001b[38;5;241m=\u001b[39m {\n\u001b[1;32m    110\u001b[0m     \u001b[38;5;124m\"\u001b[39m\u001b[38;5;124melection_result\u001b[39m\u001b[38;5;124m\"\u001b[39m: result,\n\u001b[1;32m    111\u001b[0m     \u001b[38;5;124m\"\u001b[39m\u001b[38;5;124mmeasured_fairness\u001b[39m\u001b[38;5;124m\"\u001b[39m: \u001b[38;5;28mself\u001b[39m\u001b[38;5;241m.\u001b[39mcalculate_fairness(result),\n\u001b[0;32m--> 112\u001b[0m     \u001b[38;5;124m\"\u001b[39m\u001b[38;5;124mmeasured_weighted_fairness\u001b[39m\u001b[38;5;124m\"\u001b[39m: \u001b[38;5;28;43mself\u001b[39;49m\u001b[38;5;241;43m.\u001b[39;49m\u001b[43mcalculate_weighted_fairness\u001b[49m\u001b[43m(\u001b[49m\u001b[43mresult\u001b[49m\u001b[43m)\u001b[49m,\n\u001b[1;32m    113\u001b[0m     \u001b[38;5;124m\"\u001b[39m\u001b[38;5;124mparameters\u001b[39m\u001b[38;5;124m\"\u001b[39m: {},\n\u001b[1;32m    114\u001b[0m }\n\u001b[1;32m    116\u001b[0m \u001b[38;5;28;01mif\u001b[39;00m \u001b[38;5;28mself\u001b[39m\u001b[38;5;241m.\u001b[39mplot:\n\u001b[1;32m    117\u001b[0m     \u001b[38;5;28mself\u001b[39m\u001b[38;5;241m.\u001b[39mdisplay(result, simulation_result[\u001b[38;5;124m\"\u001b[39m\u001b[38;5;124mmeasured_fairness\u001b[39m\u001b[38;5;124m\"\u001b[39m])\n",
      "File \u001b[0;32m~/uni/chalmers/complex-simulation-project/vsim/simulation.py:84\u001b[0m, in \u001b[0;36mVotingSimulator.calculate_weighted_fairness\u001b[0;34m(self, result)\u001b[0m\n\u001b[1;32m     81\u001b[0m avg_distances_weights \u001b[38;5;241m=\u001b[39m [dist \u001b[38;5;241m/\u001b[39m votes_total \u001b[38;5;28;01mfor\u001b[39;00m dist \u001b[38;5;129;01min\u001b[39;00m avg_distances]\n\u001b[1;32m     82\u001b[0m avg_distances \u001b[38;5;241m=\u001b[39m np\u001b[38;5;241m.\u001b[39marray(avg_distances\u001b[38;5;241m.\u001b[39mvalues())\n\u001b[0;32m---> 84\u001b[0m \u001b[38;5;28;01mreturn\u001b[39;00m \u001b[38;5;241m1\u001b[39m \u001b[38;5;241m/\u001b[39m \u001b[38;5;28mfloat\u001b[39m(\u001b[43mnp\u001b[49m\u001b[38;5;241;43m.\u001b[39;49m\u001b[43maverage\u001b[49m\u001b[43m(\u001b[49m\u001b[43mavg_distances\u001b[49m\u001b[43m,\u001b[49m\u001b[43m \u001b[49m\u001b[43mweights\u001b[49m\u001b[38;5;241;43m=\u001b[39;49m\u001b[43mavg_distances_weights\u001b[49m\u001b[43m)\u001b[49m)\n",
      "File \u001b[0;32m<__array_function__ internals>:200\u001b[0m, in \u001b[0;36maverage\u001b[0;34m(*args, **kwargs)\u001b[0m\n",
      "File \u001b[0;32m/Library/Frameworks/Python.framework/Versions/3.11/lib/python3.11/site-packages/numpy/lib/function_base.py:532\u001b[0m, in \u001b[0;36maverage\u001b[0;34m(a, axis, weights, returned, keepdims)\u001b[0m\n\u001b[1;32m    530\u001b[0m \u001b[38;5;28;01mif\u001b[39;00m a\u001b[38;5;241m.\u001b[39mshape \u001b[38;5;241m!=\u001b[39m wgt\u001b[38;5;241m.\u001b[39mshape:\n\u001b[1;32m    531\u001b[0m     \u001b[38;5;28;01mif\u001b[39;00m axis \u001b[38;5;129;01mis\u001b[39;00m \u001b[38;5;28;01mNone\u001b[39;00m:\n\u001b[0;32m--> 532\u001b[0m         \u001b[38;5;28;01mraise\u001b[39;00m \u001b[38;5;167;01mTypeError\u001b[39;00m(\n\u001b[1;32m    533\u001b[0m             \u001b[38;5;124m\"\u001b[39m\u001b[38;5;124mAxis must be specified when shapes of a and weights \u001b[39m\u001b[38;5;124m\"\u001b[39m\n\u001b[1;32m    534\u001b[0m             \u001b[38;5;124m\"\u001b[39m\u001b[38;5;124mdiffer.\u001b[39m\u001b[38;5;124m\"\u001b[39m)\n\u001b[1;32m    535\u001b[0m     \u001b[38;5;28;01mif\u001b[39;00m wgt\u001b[38;5;241m.\u001b[39mndim \u001b[38;5;241m!=\u001b[39m \u001b[38;5;241m1\u001b[39m:\n\u001b[1;32m    536\u001b[0m         \u001b[38;5;28;01mraise\u001b[39;00m \u001b[38;5;167;01mTypeError\u001b[39;00m(\n\u001b[1;32m    537\u001b[0m             \u001b[38;5;124m\"\u001b[39m\u001b[38;5;124m1D weights expected when shapes of a and weights differ.\u001b[39m\u001b[38;5;124m\"\u001b[39m)\n",
      "\u001b[0;31mTypeError\u001b[0m: Axis must be specified when shapes of a and weights differ."
     ]
    }
   ],
   "source": [
    "# setup helper for generating experiments (basically all sets of params to run through sim)\n",
    "def generate_experiment_matrix(experiments: Dict[str, List[Any]]):\n",
    "    return (dict(zip(experiments, x)) for x in itertools.product(*experiments.values()))\n",
    "\n",
    "columns=[\n",
    "    \"electorate_size\",\n",
    "    \"clusters\",\n",
    "    \"cluster_std\" \n",
    "    \"issues\",\n",
    "    \"candidates\",\n",
    "    \"electoral_system\",\n",
    "    \"apathy_prob\",\n",
    "    \"fairness\"\n",
    "    \"seats\",\n",
    "    \"min_share_threshold\"\n",
    "]\n",
    "\n",
    "experiments = {\n",
    "    \"electorate_size\": [10_000, 25_000, 50_000],\n",
    "    \"clusters\": [1, 2, 5, 10],\n",
    "    \"cluster_std\": [1, 2, 3],\n",
    "    \"electoral_system\": [\"proportional\"],\n",
    "    \"apathy_prob\": [0.0, 0.01, 0.05],\n",
    "    \"candidates\": [2, 4, 5, 9], # akin to parties in the proportional case\n",
    "    \"issues\": [2, 5, 10, 25],\n",
    "    \"seats\": [150, 179, 349, 736], # dutch, danish, swedish, german parliment(s) seats\n",
    "    \"min_share_threshold\": [0, 0.04, 0.10] # dutch, swedish, and turkish thresholds\n",
    "}\n",
    "\n",
    "records = []\n",
    "columns = [*experiments.keys(), \"fairness\"]\n",
    "experiment_matrix = list(generate_experiment_matrix(experiments))[:10]\n",
    "\n",
    "for params in tqdm(experiment_matrix):\n",
    "\n",
    "    # setup objects\n",
    "    voters = electorate.setup_electorate(**params)\n",
    "    parties = candidates.setup_candidates(**params, electorate=voters)\n",
    "    system = voting_system.setup_voting_system(name=params[\"electoral_system\"], **params)\n",
    "\n",
    "    # simulate elections\n",
    "    sim = simulation.VotingSimulator(electorate=voters, candidates=parties, system=system, log=logging.getLogger())\n",
    "\n",
    "    result = sim.run()\n",
    "    result_record = { \"fairness\": round(result.measured_fairness, 3), **params }\n",
    "    result_record = {k: v for k, v in result_record.items() if k in columns}\n",
    "    records.append(result_record)"
   ]
  },
  {
   "cell_type": "code",
   "execution_count": null,
   "id": "eccfd07e",
   "metadata": {},
   "outputs": [],
   "source": [
    "results_df = pd.DataFrame.from_records(records)\n",
    "results_df"
   ]
  },
  {
   "cell_type": "markdown",
   "id": "f985fd29",
   "metadata": {},
   "source": [
    "##### Store data or read from already performed experiment files"
   ]
  },
  {
   "cell_type": "code",
   "execution_count": null,
   "id": "2e747b16",
   "metadata": {},
   "outputs": [],
   "source": [
    "filepath = \"data/proportional-vs-proportional-df5ec973-c180-40ef-a410-1490716cd4e2.csv\""
   ]
  },
  {
   "cell_type": "code",
   "execution_count": null,
   "id": "5fbceee7",
   "metadata": {},
   "outputs": [],
   "source": []
  }
 ],
 "metadata": {
  "kernelspec": {
   "display_name": "Python 3 (ipykernel)",
   "language": "python",
   "name": "python3"
  },
  "language_info": {
   "codemirror_mode": {
    "name": "ipython",
    "version": 3
   },
   "file_extension": ".py",
   "mimetype": "text/x-python",
   "name": "python",
   "nbconvert_exporter": "python",
   "pygments_lexer": "ipython3",
   "version": "3.11.1"
  }
 },
 "nbformat": 4,
 "nbformat_minor": 5
}
