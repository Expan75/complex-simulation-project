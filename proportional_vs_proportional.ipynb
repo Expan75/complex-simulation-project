{
 "cells": [
  {
   "cell_type": "code",
   "execution_count": 1,
   "id": "384d1594",
   "metadata": {},
   "outputs": [],
   "source": [
    "import os\n",
    "import sys\n",
    "import logging\n",
    "import itertools\n",
    "import numpy as np\n",
    "import pandas as pd\n",
    "import seaborn as sns\n",
    "import matplotlib.pyplot as plt\n",
    "from tqdm import tqdm\n",
    "from typing import Dict, Any, List, Generator"
   ]
  },
  {
   "cell_type": "code",
   "execution_count": 2,
   "id": "80fb7c95",
   "metadata": {},
   "outputs": [],
   "source": [
    "# package imports\n",
    "from vsim import electorate, candidates, simulation, voting_system"
   ]
  },
  {
   "cell_type": "markdown",
   "id": "61481b59",
   "metadata": {},
   "source": [
    "# Analysing proportional voting systems\n",
    "\n",
    "We'll be using the case study of the Swedish parlimentary election systems, namely that there exists n-parties, voters vote for the preferred option (using the distance method we described earlier). The difference is the \"winner\" is not as well defined. "
   ]
  },
  {
   "cell_type": "code",
   "execution_count": 3,
   "id": "57418af2",
   "metadata": {},
   "outputs": [
    {
     "ename": "RuntimeError",
     "evalue": "allocated_seats={0: 174, 1: 174}, off by more than one, only 348/349",
     "output_type": "error",
     "traceback": [
      "\u001b[0;31m---------------------------------------------------------------------------\u001b[0m",
      "\u001b[0;31mRuntimeError\u001b[0m                              Traceback (most recent call last)",
      "Cell \u001b[0;32mIn[3], line 43\u001b[0m\n\u001b[1;32m     40\u001b[0m \u001b[38;5;66;03m# simulate elections\u001b[39;00m\n\u001b[1;32m     41\u001b[0m sim \u001b[38;5;241m=\u001b[39m simulation\u001b[38;5;241m.\u001b[39mVotingSimulator(electorate\u001b[38;5;241m=\u001b[39mvoters, candidates\u001b[38;5;241m=\u001b[39mparties, system\u001b[38;5;241m=\u001b[39msystem, log\u001b[38;5;241m=\u001b[39mlogging\u001b[38;5;241m.\u001b[39mgetLogger())\n\u001b[0;32m---> 43\u001b[0m result \u001b[38;5;241m=\u001b[39m \u001b[43msim\u001b[49m\u001b[38;5;241;43m.\u001b[39;49m\u001b[43mrun\u001b[49m\u001b[43m(\u001b[49m\u001b[43m)\u001b[49m\n\u001b[1;32m     44\u001b[0m result_record \u001b[38;5;241m=\u001b[39m { \u001b[38;5;124m\"\u001b[39m\u001b[38;5;124mfairness\u001b[39m\u001b[38;5;124m\"\u001b[39m: \u001b[38;5;28mround\u001b[39m(result\u001b[38;5;241m.\u001b[39mmeasured_fairness, \u001b[38;5;241m3\u001b[39m), \u001b[38;5;241m*\u001b[39m\u001b[38;5;241m*\u001b[39mparams }\n\u001b[1;32m     45\u001b[0m result_record \u001b[38;5;241m=\u001b[39m {k: v \u001b[38;5;28;01mfor\u001b[39;00m k, v \u001b[38;5;129;01min\u001b[39;00m result_record\u001b[38;5;241m.\u001b[39mitems() \u001b[38;5;28;01mif\u001b[39;00m k \u001b[38;5;129;01min\u001b[39;00m columns}\n",
      "File \u001b[0;32m~/uni/chalmers/complex-simulation-project/vsim/simulation.py:108\u001b[0m, in \u001b[0;36mVotingSimulator.run\u001b[0;34m(self)\u001b[0m\n\u001b[1;32m    106\u001b[0m \u001b[38;5;28;01mdef\u001b[39;00m \u001b[38;5;21mrun\u001b[39m(\u001b[38;5;28mself\u001b[39m):\n\u001b[1;32m    107\u001b[0m     \u001b[38;5;28mself\u001b[39m\u001b[38;5;241m.\u001b[39mlog\u001b[38;5;241m.\u001b[39mdebug(\u001b[38;5;124m\"\u001b[39m\u001b[38;5;124mrunning voting sim\u001b[39m\u001b[38;5;124m\"\u001b[39m)\n\u001b[0;32m--> 108\u001b[0m     result \u001b[38;5;241m=\u001b[39m \u001b[38;5;28;43mself\u001b[39;49m\u001b[38;5;241;43m.\u001b[39;49m\u001b[43mvoting_system\u001b[49m\u001b[38;5;241;43m.\u001b[39;49m\u001b[43melect\u001b[49m\u001b[43m(\u001b[49m\u001b[38;5;28;43mself\u001b[39;49m\u001b[38;5;241;43m.\u001b[39;49m\u001b[43melectorate\u001b[49m\u001b[43m,\u001b[49m\u001b[43m \u001b[49m\u001b[38;5;28;43mself\u001b[39;49m\u001b[38;5;241;43m.\u001b[39;49m\u001b[43mcandidates\u001b[49m\u001b[43m)\u001b[49m\n\u001b[1;32m    109\u001b[0m     fairness \u001b[38;5;241m=\u001b[39m \u001b[38;5;28mself\u001b[39m\u001b[38;5;241m.\u001b[39mcalculate_fairness(result)\n\u001b[1;32m    110\u001b[0m     simulation_result \u001b[38;5;241m=\u001b[39m {\n\u001b[1;32m    111\u001b[0m         \u001b[38;5;124m\"\u001b[39m\u001b[38;5;124melection_result\u001b[39m\u001b[38;5;124m\"\u001b[39m: result,\n\u001b[1;32m    112\u001b[0m         \u001b[38;5;124m\"\u001b[39m\u001b[38;5;124mmeasured_fairness\u001b[39m\u001b[38;5;124m\"\u001b[39m: fairness,\n\u001b[1;32m    113\u001b[0m         \u001b[38;5;124m\"\u001b[39m\u001b[38;5;124mparameters\u001b[39m\u001b[38;5;124m\"\u001b[39m: {},\n\u001b[1;32m    114\u001b[0m     }\n",
      "File \u001b[0;32m~/uni/chalmers/complex-simulation-project/vsim/voting_system.py:199\u001b[0m, in \u001b[0;36mProportionalRepresentation.elect\u001b[0;34m(self, electorate, candidates)\u001b[0m\n\u001b[1;32m    197\u001b[0m     allocated_seats[cand_final] \u001b[38;5;241m+\u001b[39m\u001b[38;5;241m=\u001b[39m \u001b[38;5;241m1\u001b[39m\n\u001b[1;32m    198\u001b[0m \u001b[38;5;28;01melif\u001b[39;00m \u001b[38;5;129;01mnot\u001b[39;00m all_seats_allocated:\n\u001b[0;32m--> 199\u001b[0m     \u001b[38;5;28;01mraise\u001b[39;00m \u001b[38;5;167;01mRuntimeError\u001b[39;00m(\n\u001b[1;32m    200\u001b[0m         \u001b[38;5;124mf\u001b[39m\u001b[38;5;124m\"\u001b[39m\u001b[38;5;132;01m{\u001b[39;00mallocated_seats\u001b[38;5;132;01m=}\u001b[39;00m\u001b[38;5;124m, off by more than one, only \u001b[39m\u001b[38;5;132;01m{\u001b[39;00m\u001b[38;5;28msum\u001b[39m(allocated_seats\u001b[38;5;241m.\u001b[39mvalues())\u001b[38;5;132;01m}\u001b[39;00m\u001b[38;5;124m/\u001b[39m\u001b[38;5;132;01m{\u001b[39;00m\u001b[38;5;28mself\u001b[39m\u001b[38;5;241m.\u001b[39mseats\u001b[38;5;132;01m}\u001b[39;00m\u001b[38;5;124m\"\u001b[39m\n\u001b[1;32m    201\u001b[0m     )\n\u001b[1;32m    203\u001b[0m \u001b[38;5;66;03m# loosely defined here, but just seen as candidate with highest seat count\u001b[39;00m\n\u001b[1;32m    204\u001b[0m winner \u001b[38;5;241m=\u001b[39m \u001b[38;5;28mmax\u001b[39m(allocated_seats, key\u001b[38;5;241m=\u001b[39m\u001b[38;5;28;01mlambda\u001b[39;00m c: allocated_seats[c])\n",
      "\u001b[0;31mRuntimeError\u001b[0m: allocated_seats={0: 174, 1: 174}, off by more than one, only 348/349"
     ]
    }
   ],
   "source": [
    "# setup helper for generating experiments (basically all sets of params to run through sim)\n",
    "def generate_experiment_matrix(experiments: Dict[str, List[Any]]):\n",
    "    return (dict(zip(experiments, x)) for x in itertools.product(*experiments.values()))\n",
    "\n",
    "columns=[\n",
    "    \"electorate_size\",\n",
    "    \"clusters\",\n",
    "    \"cluster_std\" \n",
    "    \"issues\",\n",
    "    \"candidates\",\n",
    "    \"electoral_system\",\n",
    "    \"apathy_prob\",\n",
    "    \"fairness\"\n",
    "]\n",
    "\n",
    "experiments = {\n",
    "    \"electorate_size\": [10_000],\n",
    "    \"clusters\": [10],\n",
    "    \"cluster_std\": [1],\n",
    "    \"electoral_system\": [\"proportional\"],\n",
    "    \"apathy_prob\": [0.0],\n",
    "    \"candidates\": [2],\n",
    "    \"issues\": [2],\n",
    "}\n",
    "\n",
    "records = []\n",
    "columns = [*experiments.keys(), \"fairness\"]\n",
    "experiment_matrix = list(generate_experiment_matrix(experiments))\n",
    "\n",
    "\n",
    "# outer monte carlo sim\n",
    "for i in range(1000):\n",
    "    for params in experiment_matrix:\n",
    "\n",
    "        # setup objects\n",
    "        voters = electorate.setup_electorate(**params)\n",
    "        parties = candidates.setup_candidates(**params, electorate=voters)\n",
    "        system = voting_system.setup_voting_system(name=params[\"electoral_system\"], **params)\n",
    "\n",
    "        # simulate elections\n",
    "        sim = simulation.VotingSimulator(electorate=voters, candidates=parties, system=system, log=logging.getLogger())\n",
    "\n",
    "        result = sim.run()\n",
    "        result_record = { \"fairness\": round(result.measured_fairness, 3), **params }\n",
    "        result_record = {k: v for k, v in result_record.items() if k in columns}\n",
    "        records.append(result_record)"
   ]
  },
  {
   "cell_type": "code",
   "execution_count": null,
   "id": "eccfd07e",
   "metadata": {},
   "outputs": [],
   "source": [
    "results_df = pd.DataFrame.from_records(records)\n",
    "results_df.head()"
   ]
  },
  {
   "cell_type": "code",
   "execution_count": null,
   "id": "fb2d22ca",
   "metadata": {},
   "outputs": [],
   "source": [
    "results_df.cumsum(\"fairness\")"
   ]
  },
  {
   "cell_type": "markdown",
   "id": "f985fd29",
   "metadata": {},
   "source": [
    "##### Store data or read from already performed experiment files"
   ]
  },
  {
   "cell_type": "code",
   "execution_count": 3,
   "id": "2e747b16",
   "metadata": {},
   "outputs": [],
   "source": [
    "filepath = \"data/fairness-convergence-f6da8c03-dce6-4604-90a7-b1778e1d1bdd.csv\""
   ]
  },
  {
   "cell_type": "code",
   "execution_count": null,
   "id": "5fbceee7",
   "metadata": {},
   "outputs": [],
   "source": []
  }
 ],
 "metadata": {
  "kernelspec": {
   "display_name": "Python 3 (ipykernel)",
   "language": "python",
   "name": "python3"
  },
  "language_info": {
   "codemirror_mode": {
    "name": "ipython",
    "version": 3
   },
   "file_extension": ".py",
   "mimetype": "text/x-python",
   "name": "python",
   "nbconvert_exporter": "python",
   "pygments_lexer": "ipython3",
   "version": "3.11.1"
  }
 },
 "nbformat": 4,
 "nbformat_minor": 5
}
