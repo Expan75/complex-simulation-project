{
 "cells": [
  {
   "cell_type": "code",
   "execution_count": 3,
   "id": "384d1594",
   "metadata": {},
   "outputs": [],
   "source": [
    "import os\n",
    "import sys\n",
    "import logging\n",
    "import itertools\n",
    "import numpy as np\n",
    "import pandas as pd\n",
    "import seaborn as sns\n",
    "import matplotlib.pyplot as plt\n",
    "from tqdm import tqdm\n",
    "from typing import Dict, Any, List, Generator"
   ]
  },
  {
   "cell_type": "code",
   "execution_count": 4,
   "id": "80fb7c95",
   "metadata": {},
   "outputs": [],
   "source": [
    "# package imports\n",
    "from vsim import electorate, candidates, simulation, voting_system"
   ]
  },
  {
   "cell_type": "markdown",
   "id": "61481b59",
   "metadata": {},
   "source": [
    "# Analysing proportional voting systems\n",
    "\n",
    "We'll be using the case study of the Swedish parlimentary election systems, namely that there exists n-parties, voters vote for the preferred option (using the distance method we described earlier). The difference is the \"winner\" is not as well defined. "
   ]
  },
  {
   "cell_type": "code",
   "execution_count": 12,
   "id": "57418af2",
   "metadata": {},
   "outputs": [
    {
     "name": "stderr",
     "output_type": "stream",
     "text": [
      "100%|██████████████████████████████████████| 20736/20736 [1:04:29<00:00,  5.36it/s]\n"
     ]
    }
   ],
   "source": [
    "# setup helper for generating experiments (basically all sets of params to run through sim)\n",
    "def generate_experiment_matrix(experiments: Dict[str, List[Any]]):\n",
    "    return (dict(zip(experiments, x)) for x in itertools.product(*experiments.values()))\n",
    "\n",
    "experiments = {\n",
    "    \"electorate_size\": [10_000, 25_000, 50_000],\n",
    "    \"clusters\": [1, 2, 5, 10],\n",
    "    \"cluster_std\": [1, 2, 3],\n",
    "    \"electoral_system\": [\"proportional\"],\n",
    "    \"apathy_prob\": [0.0, 0.01, 0.05],\n",
    "    \"candidates\": [2, 4, 5, 9], # akin to parties in the proportional case\n",
    "    \"issues\": [2, 5, 10, 25],\n",
    "    \"seats\": [150, 179, 349, 736], # dutch, danish, swedish, german parliment(s) seats\n",
    "    \"min_share_threshold\": [0, 0.04, 0.10] # dutch, swedish, and turkish thresholds\n",
    "}\n",
    "records = []\n",
    "columns = [*experiments.keys(), \"unweighted_fairness\", \"weighted_fairness\"]\n",
    "experiment_matrix = list(generate_experiment_matrix(experiments))\n",
    "\n",
    "for params in tqdm(experiment_matrix):\n",
    "\n",
    "    # setup objects\n",
    "    voters = electorate.setup_electorate(**params)\n",
    "    parties = candidates.setup_candidates(**params, electorate=voters)\n",
    "    system = voting_system.setup_voting_system(name=params[\"electoral_system\"], **params)\n",
    "\n",
    "    # simulate elections\n",
    "    sim = simulation.VotingSimulator(electorate=voters, candidates=parties, system=system, log=logging.getLogger())\n",
    "\n",
    "    result = sim.run()\n",
    "    result_record = { \n",
    "        \"unweighted_fairness\": round(result.unweighted_fairness, 3),\n",
    "        \"weighted_fairness\": round(result.weighted_fairness, 3),\n",
    "        **params \n",
    "    }\n",
    "    result_record = {k: v for k, v in result_record.items() if k in columns}\n",
    "    records.append(result_record)"
   ]
  },
  {
   "cell_type": "code",
   "execution_count": 2,
   "id": "eccfd07e",
   "metadata": {},
   "outputs": [
    {
     "ename": "NameError",
     "evalue": "name 'pd' is not defined",
     "output_type": "error",
     "traceback": [
      "\u001b[0;31m---------------------------------------------------------------------------\u001b[0m",
      "\u001b[0;31mNameError\u001b[0m                                 Traceback (most recent call last)",
      "Cell \u001b[0;32mIn[2], line 1\u001b[0m\n\u001b[0;32m----> 1\u001b[0m results_df \u001b[38;5;241m=\u001b[39m \u001b[43mpd\u001b[49m\u001b[38;5;241m.\u001b[39mDataFrame\u001b[38;5;241m.\u001b[39mfrom_records(records)\n\u001b[1;32m      2\u001b[0m results_df\n",
      "\u001b[0;31mNameError\u001b[0m: name 'pd' is not defined"
     ]
    }
   ],
   "source": [
    "results_df = pd.DataFrame.from_records(records)\n",
    "results_df"
   ]
  },
  {
   "cell_type": "code",
   "execution_count": 5,
   "id": "2e747b16",
   "metadata": {},
   "outputs": [
    {
     "ename": "AssertionError",
     "evalue": "file already exists; use a new uuid to avoid overwriting",
     "output_type": "error",
     "traceback": [
      "\u001b[0;31m---------------------------------------------------------------------------\u001b[0m",
      "\u001b[0;31mAssertionError\u001b[0m                            Traceback (most recent call last)",
      "Cell \u001b[0;32mIn[5], line 2\u001b[0m\n\u001b[1;32m      1\u001b[0m filepath \u001b[38;5;241m=\u001b[39m \u001b[38;5;124m\"\u001b[39m\u001b[38;5;124mdata/proportional-vs-proportional-df5ec973-c180-40ef-a410-1490716cd4e2.csv\u001b[39m\u001b[38;5;124m\"\u001b[39m\n\u001b[0;32m----> 2\u001b[0m \u001b[38;5;28;01massert\u001b[39;00m \u001b[38;5;129;01mnot\u001b[39;00m os\u001b[38;5;241m.\u001b[39mpath\u001b[38;5;241m.\u001b[39misfile(filepath), \u001b[38;5;124m\"\u001b[39m\u001b[38;5;124mfile already exists; use a new uuid to avoid overwriting\u001b[39m\u001b[38;5;124m\"\u001b[39m\n\u001b[1;32m      3\u001b[0m results_df\u001b[38;5;241m.\u001b[39mto_csv(filepath, index\u001b[38;5;241m=\u001b[39m\u001b[38;5;28;01mFalse\u001b[39;00m)\n",
      "\u001b[0;31mAssertionError\u001b[0m: file already exists; use a new uuid to avoid overwriting"
     ]
    }
   ],
   "source": [
    "filepath = \"data/proportional-vs-proportional-df5ec973-c180-40ef-a410-1490716cd4e2.csv\"\n",
    "assert not os.path.isfile(filepath), \"file already exists; use a new uuid to avoid overwriting\"\n",
    "results_df.to_csv(filepath, index=False)"
   ]
  },
  {
   "cell_type": "code",
   "execution_count": 6,
   "id": "3aae004c",
   "metadata": {},
   "outputs": [],
   "source": [
    "results_df = pd.read_csv(filepath)"
   ]
  },
  {
   "cell_type": "markdown",
   "id": "d4f4c1ae",
   "metadata": {},
   "source": [
    "**NOTE:** that unweighted fairness does not have any meaning in the proportional case and should not be used to compare between majority/plurality and proportionality electoral systems."
   ]
  },
  {
   "cell_type": "markdown",
   "id": "2bf619fd",
   "metadata": {},
   "source": [
    "### Investigating factors of fairness"
   ]
  },
  {
   "cell_type": "code",
   "execution_count": 7,
   "id": "958d42ed",
   "metadata": {},
   "outputs": [],
   "source": [
    "corr_df = results_df.drop([\"electoral_system\", \"unweighted_fairness\"], axis=1).corrwith(results_df.weighted_fairness)"
   ]
  },
  {
   "cell_type": "code",
   "execution_count": 8,
   "id": "2f124e28",
   "metadata": {},
   "outputs": [],
   "source": [
    "df = pd.DataFrame(corr_df).drop(\"weighted_fairness\", axis=0)\n",
    "df.index = df.index.rename(\"measure\")\n",
    "df.columns = [\"weighted_fairness\"]\n",
    "df = df.reset_index()"
   ]
  },
  {
   "cell_type": "code",
   "execution_count": 9,
   "id": "e01d3d35",
   "metadata": {},
   "outputs": [
    {
     "data": {
      "text/html": [
       "<div>\n",
       "<style scoped>\n",
       "    .dataframe tbody tr th:only-of-type {\n",
       "        vertical-align: middle;\n",
       "    }\n",
       "\n",
       "    .dataframe tbody tr th {\n",
       "        vertical-align: top;\n",
       "    }\n",
       "\n",
       "    .dataframe thead th {\n",
       "        text-align: right;\n",
       "    }\n",
       "</style>\n",
       "<table border=\"1\" class=\"dataframe\">\n",
       "  <thead>\n",
       "    <tr style=\"text-align: right;\">\n",
       "      <th></th>\n",
       "      <th>measure</th>\n",
       "      <th>weighted_fairness</th>\n",
       "    </tr>\n",
       "  </thead>\n",
       "  <tbody>\n",
       "    <tr>\n",
       "      <th>0</th>\n",
       "      <td>electorate_size</td>\n",
       "      <td>-0.001871</td>\n",
       "    </tr>\n",
       "    <tr>\n",
       "      <th>1</th>\n",
       "      <td>clusters</td>\n",
       "      <td>-0.502127</td>\n",
       "    </tr>\n",
       "    <tr>\n",
       "      <th>2</th>\n",
       "      <td>cluster_std</td>\n",
       "      <td>-0.254411</td>\n",
       "    </tr>\n",
       "    <tr>\n",
       "      <th>3</th>\n",
       "      <td>apathy_prob</td>\n",
       "      <td>0.001108</td>\n",
       "    </tr>\n",
       "    <tr>\n",
       "      <th>4</th>\n",
       "      <td>candidates</td>\n",
       "      <td>-0.036729</td>\n",
       "    </tr>\n",
       "    <tr>\n",
       "      <th>5</th>\n",
       "      <td>issues</td>\n",
       "      <td>0.045120</td>\n",
       "    </tr>\n",
       "    <tr>\n",
       "      <th>6</th>\n",
       "      <td>seats</td>\n",
       "      <td>-0.000267</td>\n",
       "    </tr>\n",
       "    <tr>\n",
       "      <th>7</th>\n",
       "      <td>min_share_threshold</td>\n",
       "      <td>0.000151</td>\n",
       "    </tr>\n",
       "  </tbody>\n",
       "</table>\n",
       "</div>"
      ],
      "text/plain": [
       "               measure  weighted_fairness\n",
       "0      electorate_size          -0.001871\n",
       "1             clusters          -0.502127\n",
       "2          cluster_std          -0.254411\n",
       "3          apathy_prob           0.001108\n",
       "4           candidates          -0.036729\n",
       "5               issues           0.045120\n",
       "6                seats          -0.000267\n",
       "7  min_share_threshold           0.000151"
      ]
     },
     "execution_count": 9,
     "metadata": {},
     "output_type": "execute_result"
    }
   ],
   "source": [
    "df"
   ]
  },
  {
   "cell_type": "code",
   "execution_count": 17,
   "id": "a0381198",
   "metadata": {},
   "outputs": [
    {
     "data": {
      "image/png": "[encoded data removed]",
      "text/plain": [
       "<Figure size 600x400 with 1 Axes>"
      ]
     },
     "metadata": {},
     "output_type": "display_data"
    }
   ],
   "source": [
    "fig, ax = plt.subplots(1, 1, figsize=(6, 4), tight_layout=True)\n",
    "sns.barplot(data=df.reset_index(), x=\"measure\", y=\"weighted_fairness\", hue=\"weighted_fairness\", palette=\"magma\", ax=ax, dodge=False)\n",
    "ax.get_legend().set_visible(False)\n",
    "ax.grid(axis=\"y\")\n",
    "plt.suptitle(\"Measure correlation with weighted fairness - proportional\")\n",
    "plt.xticks(rotation=45)\n",
    "plt.show()"
   ]
  },
  {
   "cell_type": "markdown",
   "id": "fde2b996",
   "metadata": {},
   "source": [
    "# Factor analysis via OLS"
   ]
  },
  {
   "cell_type": "code",
   "execution_count": 13,
   "id": "5a7a9673",
   "metadata": {},
   "outputs": [
    {
     "data": {
      "text/html": [
       "<table class=\"simpletable\">\n",
       "<caption>OLS Regression Results</caption>\n",
       "<tr>\n",
       "  <th>Dep. Variable:</th>    <td>weighted_fairness</td> <th>  R-squared (uncentered):</th>      <td>   0.591</td> \n",
       "</tr>\n",
       "<tr>\n",
       "  <th>Model:</th>                   <td>OLS</td>        <th>  Adj. R-squared (uncentered):</th> <td>   0.591</td> \n",
       "</tr>\n",
       "<tr>\n",
       "  <th>Method:</th>             <td>Least Squares</td>   <th>  F-statistic:       </th>          <td>   3742.</td> \n",
       "</tr>\n",
       "<tr>\n",
       "  <th>Date:</th>             <td>Mon, 11 Dec 2023</td>  <th>  Prob (F-statistic):</th>           <td>  0.00</td>  \n",
       "</tr>\n",
       "<tr>\n",
       "  <th>Time:</th>                 <td>12:53:50</td>      <th>  Log-Likelihood:    </th>          <td> -34146.</td> \n",
       "</tr>\n",
       "<tr>\n",
       "  <th>No. Observations:</th>      <td> 20736</td>       <th>  AIC:               </th>          <td>6.831e+04</td>\n",
       "</tr>\n",
       "<tr>\n",
       "  <th>Df Residuals:</th>          <td> 20728</td>       <th>  BIC:               </th>          <td>6.837e+04</td>\n",
       "</tr>\n",
       "<tr>\n",
       "  <th>Df Model:</th>              <td>     8</td>       <th>                     </th>              <td> </td>    \n",
       "</tr>\n",
       "<tr>\n",
       "  <th>Covariance Type:</th>      <td>nonrobust</td>     <th>                     </th>              <td> </td>    \n",
       "</tr>\n",
       "</table>\n",
       "<table class=\"simpletable\">\n",
       "<tr>\n",
       "           <td></td>              <th>coef</th>     <th>std err</th>      <th>t</th>      <th>P>|t|</th>  <th>[0.025</th>    <th>0.975]</th>  \n",
       "</tr>\n",
       "<tr>\n",
       "  <th>electorate_size</th>     <td>  1.52e-05</td> <td> 4.91e-07</td> <td>   30.976</td> <td> 0.000</td> <td> 1.42e-05</td> <td> 1.62e-05</td>\n",
       "</tr>\n",
       "<tr>\n",
       "  <th>clusters</th>            <td>   -0.1295</td> <td>    0.002</td> <td>  -54.112</td> <td> 0.000</td> <td>   -0.134</td> <td>   -0.125</td>\n",
       "</tr>\n",
       "<tr>\n",
       "  <th>cluster_std</th>         <td>    0.0434</td> <td>    0.009</td> <td>    4.791</td> <td> 0.000</td> <td>    0.026</td> <td>    0.061</td>\n",
       "</tr>\n",
       "<tr>\n",
       "  <th>apathy_prob</th>         <td>    6.3839</td> <td>    0.396</td> <td>   16.139</td> <td> 0.000</td> <td>    5.609</td> <td>    7.159</td>\n",
       "</tr>\n",
       "<tr>\n",
       "  <th>candidates</th>          <td>    0.0950</td> <td>    0.003</td> <td>   30.664</td> <td> 0.000</td> <td>    0.089</td> <td>    0.101</td>\n",
       "</tr>\n",
       "<tr>\n",
       "  <th>issues</th>              <td>    0.0263</td> <td>    0.001</td> <td>   27.615</td> <td> 0.000</td> <td>    0.024</td> <td>    0.028</td>\n",
       "</tr>\n",
       "<tr>\n",
       "  <th>seats</th>               <td>    0.0010</td> <td> 3.53e-05</td> <td>   27.040</td> <td> 0.000</td> <td>    0.001</td> <td>    0.001</td>\n",
       "</tr>\n",
       "<tr>\n",
       "  <th>min_share_threshold</th> <td>    4.0783</td> <td>    0.206</td> <td>   19.825</td> <td> 0.000</td> <td>    3.675</td> <td>    4.482</td>\n",
       "</tr>\n",
       "</table>\n",
       "<table class=\"simpletable\">\n",
       "<tr>\n",
       "  <th>Omnibus:</th>       <td>6998.949</td> <th>  Durbin-Watson:     </th> <td>   0.277</td> \n",
       "</tr>\n",
       "<tr>\n",
       "  <th>Prob(Omnibus):</th>  <td> 0.000</td>  <th>  Jarque-Bera (JB):  </th> <td>22821.480</td>\n",
       "</tr>\n",
       "<tr>\n",
       "  <th>Skew:</th>           <td> 1.738</td>  <th>  Prob(JB):          </th> <td>    0.00</td> \n",
       "</tr>\n",
       "<tr>\n",
       "  <th>Kurtosis:</th>       <td> 6.786</td>  <th>  Cond. No.          </th> <td>1.49e+06</td> \n",
       "</tr>\n",
       "</table><br/><br/>Notes:<br/>[1] R² is computed without centering (uncentered) since the model does not contain a constant.<br/>[2] Standard Errors assume that the covariance matrix of the errors is correctly specified.<br/>[3] The condition number is large, 1.49e+06. This might indicate that there are<br/>strong multicollinearity or other numerical problems."
      ],
      "text/latex": [
       "\\begin{center}\n",
       "\\begin{tabular}{lclc}\n",
       "\\toprule\n",
       "\\textbf{Dep. Variable:}        & weighted\\_fairness & \\textbf{  R-squared (uncentered):}      &     0.591   \\\\\n",
       "\\textbf{Model:}                &        OLS         & \\textbf{  Adj. R-squared (uncentered):} &     0.591   \\\\\n",
       "\\textbf{Method:}               &   Least Squares    & \\textbf{  F-statistic:       }          &     3742.   \\\\\n",
       "\\textbf{Date:}                 &  Mon, 11 Dec 2023  & \\textbf{  Prob (F-statistic):}          &     0.00    \\\\\n",
       "\\textbf{Time:}                 &      12:53:50      & \\textbf{  Log-Likelihood:    }          &   -34146.   \\\\\n",
       "\\textbf{No. Observations:}     &        20736       & \\textbf{  AIC:               }          & 6.831e+04   \\\\\n",
       "\\textbf{Df Residuals:}         &        20728       & \\textbf{  BIC:               }          & 6.837e+04   \\\\\n",
       "\\textbf{Df Model:}             &            8       & \\textbf{                     }          &             \\\\\n",
       "\\textbf{Covariance Type:}      &     nonrobust      & \\textbf{                     }          &             \\\\\n",
       "\\bottomrule\n",
       "\\end{tabular}\n",
       "\\begin{tabular}{lcccccc}\n",
       "                               & \\textbf{coef} & \\textbf{std err} & \\textbf{t} & \\textbf{P$> |$t$|$} & \\textbf{[0.025} & \\textbf{0.975]}  \\\\\n",
       "\\midrule\n",
       "\\textbf{electorate\\_size}      &     1.52e-05  &     4.91e-07     &    30.976  &         0.000        &     1.42e-05    &     1.62e-05     \\\\\n",
       "\\textbf{clusters}              &      -0.1295  &        0.002     &   -54.112  &         0.000        &       -0.134    &       -0.125     \\\\\n",
       "\\textbf{cluster\\_std}          &       0.0434  &        0.009     &     4.791  &         0.000        &        0.026    &        0.061     \\\\\n",
       "\\textbf{apathy\\_prob}          &       6.3839  &        0.396     &    16.139  &         0.000        &        5.609    &        7.159     \\\\\n",
       "\\textbf{candidates}            &       0.0950  &        0.003     &    30.664  &         0.000        &        0.089    &        0.101     \\\\\n",
       "\\textbf{issues}                &       0.0263  &        0.001     &    27.615  &         0.000        &        0.024    &        0.028     \\\\\n",
       "\\textbf{seats}                 &       0.0010  &     3.53e-05     &    27.040  &         0.000        &        0.001    &        0.001     \\\\\n",
       "\\textbf{min\\_share\\_threshold} &       4.0783  &        0.206     &    19.825  &         0.000        &        3.675    &        4.482     \\\\\n",
       "\\bottomrule\n",
       "\\end{tabular}\n",
       "\\begin{tabular}{lclc}\n",
       "\\textbf{Omnibus:}       & 6998.949 & \\textbf{  Durbin-Watson:     } &     0.277  \\\\\n",
       "\\textbf{Prob(Omnibus):} &   0.000  & \\textbf{  Jarque-Bera (JB):  } & 22821.480  \\\\\n",
       "\\textbf{Skew:}          &   1.738  & \\textbf{  Prob(JB):          } &      0.00  \\\\\n",
       "\\textbf{Kurtosis:}      &   6.786  & \\textbf{  Cond. No.          } &  1.49e+06  \\\\\n",
       "\\bottomrule\n",
       "\\end{tabular}\n",
       "%\\caption{OLS Regression Results}\n",
       "\\end{center}\n",
       "\n",
       "Notes: \\newline\n",
       " [1] R² is computed without centering (uncentered) since the model does not contain a constant. \\newline\n",
       " [2] Standard Errors assume that the covariance matrix of the errors is correctly specified. \\newline\n",
       " [3] The condition number is large, 1.49e+06. This might indicate that there are \\newline\n",
       " strong multicollinearity or other numerical problems."
      ],
      "text/plain": [
       "<class 'statsmodels.iolib.summary.Summary'>\n",
       "\"\"\"\n",
       "                                 OLS Regression Results                                \n",
       "=======================================================================================\n",
       "Dep. Variable:      weighted_fairness   R-squared (uncentered):                   0.591\n",
       "Model:                            OLS   Adj. R-squared (uncentered):              0.591\n",
       "Method:                 Least Squares   F-statistic:                              3742.\n",
       "Date:                Mon, 11 Dec 2023   Prob (F-statistic):                        0.00\n",
       "Time:                        12:53:50   Log-Likelihood:                         -34146.\n",
       "No. Observations:               20736   AIC:                                  6.831e+04\n",
       "Df Residuals:                   20728   BIC:                                  6.837e+04\n",
       "Df Model:                           8                                                  \n",
       "Covariance Type:            nonrobust                                                  \n",
       "=======================================================================================\n",
       "                          coef    std err          t      P>|t|      [0.025      0.975]\n",
       "---------------------------------------------------------------------------------------\n",
       "electorate_size       1.52e-05   4.91e-07     30.976      0.000    1.42e-05    1.62e-05\n",
       "clusters               -0.1295      0.002    -54.112      0.000      -0.134      -0.125\n",
       "cluster_std             0.0434      0.009      4.791      0.000       0.026       0.061\n",
       "apathy_prob             6.3839      0.396     16.139      0.000       5.609       7.159\n",
       "candidates              0.0950      0.003     30.664      0.000       0.089       0.101\n",
       "issues                  0.0263      0.001     27.615      0.000       0.024       0.028\n",
       "seats                   0.0010   3.53e-05     27.040      0.000       0.001       0.001\n",
       "min_share_threshold     4.0783      0.206     19.825      0.000       3.675       4.482\n",
       "==============================================================================\n",
       "Omnibus:                     6998.949   Durbin-Watson:                   0.277\n",
       "Prob(Omnibus):                  0.000   Jarque-Bera (JB):            22821.480\n",
       "Skew:                           1.738   Prob(JB):                         0.00\n",
       "Kurtosis:                       6.786   Cond. No.                     1.49e+06\n",
       "==============================================================================\n",
       "\n",
       "Notes:\n",
       "[1] R² is computed without centering (uncentered) since the model does not contain a constant.\n",
       "[2] Standard Errors assume that the covariance matrix of the errors is correctly specified.\n",
       "[3] The condition number is large, 1.49e+06. This might indicate that there are\n",
       "strong multicollinearity or other numerical problems.\n",
       "\"\"\""
      ]
     },
     "execution_count": 13,
     "metadata": {},
     "output_type": "execute_result"
    }
   ],
   "source": [
    "import statsmodels.api as sm\n",
    "\n",
    "target = \"weighted_fairness\"\n",
    "superflous_cols = [\"weighted_fairness\", \"unweighted_fairness\", \"electoral_system\"]\n",
    "features = [c for c in results_df.columns if c not in superflous_cols]\n",
    "\n",
    "# setup and get results\n",
    "ols = sm.OLS(endog=results_df[target], exog=results_df[features]).fit()\n",
    "ols.summary()"
   ]
  },
  {
   "cell_type": "code",
   "execution_count": null,
   "id": "f15c6e94",
   "metadata": {},
   "outputs": [],
   "source": []
  }
 ],
 "metadata": {
  "kernelspec": {
   "display_name": "Python 3 (ipykernel)",
   "language": "python",
   "name": "python3"
  },
  "language_info": {
   "codemirror_mode": {
    "name": "ipython",
    "version": 3
   },
   "file_extension": ".py",
   "mimetype": "text/x-python",
   "name": "python",
   "nbconvert_exporter": "python",
   "pygments_lexer": "ipython3",
   "version": "3.11.1"
  }
 },
 "nbformat": 4,
 "nbformat_minor": 5
}
