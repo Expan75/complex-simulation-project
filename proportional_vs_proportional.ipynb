{
 "cells": [
  {
   "cell_type": "code",
   "execution_count": 1,
   "id": "384d1594",
   "metadata": {},
   "outputs": [],
   "source": [
    "import os\n",
    "import sys\n",
    "import logging\n",
    "import itertools\n",
    "import numpy as np\n",
    "import pandas as pd\n",
    "import seaborn as sns\n",
    "import matplotlib.pyplot as plt\n",
    "from tqdm import tqdm\n",
    "from typing import Dict, Any, List, Generator"
   ]
  },
  {
   "cell_type": "code",
   "execution_count": 2,
   "id": "80fb7c95",
   "metadata": {},
   "outputs": [],
   "source": [
    "# package imports\n",
    "from vsim import electorate, candidates, simulation, voting_system"
   ]
  },
  {
   "cell_type": "markdown",
   "id": "61481b59",
   "metadata": {},
   "source": [
    "# Analysing proportional voting systems\n",
    "\n",
    "We'll be using the case study of the Swedish parlimentary election systems, namely that there exists n-parties, voters vote for the preferred option (using the distance method we described earlier). The difference is the \"winner\" is not as well defined. "
   ]
  },
  {
   "cell_type": "code",
   "execution_count": null,
   "id": "57418af2",
   "metadata": {},
   "outputs": [
    {
     "name": "stderr",
     "output_type": "stream",
     "text": [
      " 95%|████████████████████████████████████████▋  | 9458/10000 [06:52<00:24, 22.36it/s]"
     ]
    }
   ],
   "source": [
    "# setup helper for generating experiments (basically all sets of params to run through sim)\n",
    "def generate_experiment_matrix(experiments: Dict[str, List[Any]]):\n",
    "    return (dict(zip(experiments, x)) for x in itertools.product(*experiments.values()))\n",
    "\n",
    "columns=[\n",
    "    \"electorate_size\",\n",
    "    \"clusters\",\n",
    "    \"cluster_std\" \n",
    "    \"issues\",\n",
    "    \"candidates\",\n",
    "    \"electoral_system\",\n",
    "    \"apathy_prob\",\n",
    "    \"fairness\"\n",
    "]\n",
    "\n",
    "experiments = {\n",
    "    \"electorate_size\": [10_000],\n",
    "    \"clusters\": [10],\n",
    "    \"cluster_std\": [1],\n",
    "    \"electoral_system\": [\"proportional\"],\n",
    "    \"apathy_prob\": [0.0],\n",
    "    \"candidates\": [2],\n",
    "    \"issues\": [2],\n",
    "}\n",
    "\n",
    "records = []\n",
    "columns = [*experiments.keys(), \"fairness\", \"t\"]\n",
    "experiment_matrix = list(generate_experiment_matrix(experiments))\n",
    "\n",
    "\n",
    "# outer monte carlo sim\n",
    "for _ in tqdm(range(10_000)):\n",
    "    for params in experiment_matrix:\n",
    "\n",
    "        # setup objects\n",
    "        voters = electorate.setup_electorate(**params)\n",
    "        parties = candidates.setup_candidates(**params, electorate=voters)\n",
    "        system = voting_system.setup_voting_system(name=params[\"electoral_system\"], **params)\n",
    "\n",
    "        # simulate elections\n",
    "        sim = simulation.VotingSimulator(electorate=voters, candidates=parties, system=system, log=logging.getLogger())\n",
    "\n",
    "        result = sim.run()\n",
    "        result_record = { \"fairness\": round(result.measured_fairness, 3), **params }\n",
    "        result_record = {k: v for k, v in result_record.items() if k in columns}\n",
    "        records.append(result_record)"
   ]
  },
  {
   "cell_type": "code",
   "execution_count": 23,
   "id": "eccfd07e",
   "metadata": {},
   "outputs": [
    {
     "data": {
      "text/html": [
       "<div>\n",
       "<style scoped>\n",
       "    .dataframe tbody tr th:only-of-type {\n",
       "        vertical-align: middle;\n",
       "    }\n",
       "\n",
       "    .dataframe tbody tr th {\n",
       "        vertical-align: top;\n",
       "    }\n",
       "\n",
       "    .dataframe thead th {\n",
       "        text-align: right;\n",
       "    }\n",
       "</style>\n",
       "<table border=\"1\" class=\"dataframe\">\n",
       "  <thead>\n",
       "    <tr style=\"text-align: right;\">\n",
       "      <th></th>\n",
       "      <th>fairness</th>\n",
       "      <th>electorate_size</th>\n",
       "      <th>clusters</th>\n",
       "      <th>cluster_std</th>\n",
       "      <th>electoral_system</th>\n",
       "      <th>apathy_prob</th>\n",
       "      <th>candidates</th>\n",
       "      <th>issues</th>\n",
       "      <th>t</th>\n",
       "    </tr>\n",
       "  </thead>\n",
       "  <tbody>\n",
       "    <tr>\n",
       "      <th>0</th>\n",
       "      <td>1.466</td>\n",
       "      <td>10000</td>\n",
       "      <td>10</td>\n",
       "      <td>1</td>\n",
       "      <td>plurality</td>\n",
       "      <td>0.0</td>\n",
       "      <td>2</td>\n",
       "      <td>2</td>\n",
       "      <td>0</td>\n",
       "    </tr>\n",
       "    <tr>\n",
       "      <th>1</th>\n",
       "      <td>0.936</td>\n",
       "      <td>10000</td>\n",
       "      <td>10</td>\n",
       "      <td>1</td>\n",
       "      <td>plurality</td>\n",
       "      <td>0.0</td>\n",
       "      <td>2</td>\n",
       "      <td>2</td>\n",
       "      <td>1</td>\n",
       "    </tr>\n",
       "    <tr>\n",
       "      <th>2</th>\n",
       "      <td>0.824</td>\n",
       "      <td>10000</td>\n",
       "      <td>10</td>\n",
       "      <td>1</td>\n",
       "      <td>plurality</td>\n",
       "      <td>0.0</td>\n",
       "      <td>2</td>\n",
       "      <td>2</td>\n",
       "      <td>2</td>\n",
       "    </tr>\n",
       "    <tr>\n",
       "      <th>3</th>\n",
       "      <td>0.898</td>\n",
       "      <td>10000</td>\n",
       "      <td>10</td>\n",
       "      <td>1</td>\n",
       "      <td>plurality</td>\n",
       "      <td>0.0</td>\n",
       "      <td>2</td>\n",
       "      <td>2</td>\n",
       "      <td>3</td>\n",
       "    </tr>\n",
       "    <tr>\n",
       "      <th>4</th>\n",
       "      <td>0.892</td>\n",
       "      <td>10000</td>\n",
       "      <td>10</td>\n",
       "      <td>1</td>\n",
       "      <td>plurality</td>\n",
       "      <td>0.0</td>\n",
       "      <td>2</td>\n",
       "      <td>2</td>\n",
       "      <td>4</td>\n",
       "    </tr>\n",
       "  </tbody>\n",
       "</table>\n",
       "</div>"
      ],
      "text/plain": [
       "   fairness  electorate_size  clusters  cluster_std electoral_system  \\\n",
       "0     1.466            10000        10            1        plurality   \n",
       "1     0.936            10000        10            1        plurality   \n",
       "2     0.824            10000        10            1        plurality   \n",
       "3     0.898            10000        10            1        plurality   \n",
       "4     0.892            10000        10            1        plurality   \n",
       "\n",
       "   apathy_prob  candidates  issues  t  \n",
       "0          0.0           2       2  0  \n",
       "1          0.0           2       2  1  \n",
       "2          0.0           2       2  2  \n",
       "3          0.0           2       2  3  \n",
       "4          0.0           2       2  4  "
      ]
     },
     "execution_count": 23,
     "metadata": {},
     "output_type": "execute_result"
    }
   ],
   "source": [
    "results_df = pd.DataFrame.from_records(records)\n",
    "results_df.head()"
   ]
  },
  {
   "cell_type": "code",
   "execution_count": null,
   "id": "fb2d22ca",
   "metadata": {},
   "outputs": [],
   "source": [
    "results_df.cumsum(\"fairness\")"
   ]
  },
  {
   "cell_type": "markdown",
   "id": "f985fd29",
   "metadata": {},
   "source": [
    "##### Store data or read from already performed experiment files"
   ]
  },
  {
   "cell_type": "code",
   "execution_count": 3,
   "id": "2e747b16",
   "metadata": {},
   "outputs": [],
   "source": [
    "filepath = \"data/fairness-convergence-f6da8c03-dce6-4604-90a7-b1778e1d1bdd.csv\""
   ]
  },
  {
   "cell_type": "code",
   "execution_count": null,
   "id": "5fbceee7",
   "metadata": {},
   "outputs": [],
   "source": []
  }
 ],
 "metadata": {
  "kernelspec": {
   "display_name": "Python 3 (ipykernel)",
   "language": "python",
   "name": "python3"
  },
  "language_info": {
   "codemirror_mode": {
    "name": "ipython",
    "version": 3
   },
   "file_extension": ".py",
   "mimetype": "text/x-python",
   "name": "python",
   "nbconvert_exporter": "python",
   "pygments_lexer": "ipython3",
   "version": "3.11.1"
  }
 },
 "nbformat": 4,
 "nbformat_minor": 5
}
